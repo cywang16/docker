{
 "cells": [
  {
   "cell_type": "code",
   "execution_count": null,
   "metadata": {},
   "outputs": [],
   "source": [
    "import pandas as pd\n",
    "import numpy as np\n",
    "import matplotlib as mpl\n",
    "import matplotlib.pyplot as plt\n",
    "print('pandas version: {}'.format(pd.__version__))\n",
    "print('numpy version: {}'.format(np.__version__))\n",
    "print('matplotlib version: {}'.format(mpl.__version__))"
   ]
  },
  {
   "cell_type": "code",
   "execution_count": null,
   "metadata": {},
   "outputs": [],
   "source": [
    "# list data files\n",
    "import os\n",
    "print(os.listdir())\n",
    "print(os.getcwd())\n",
    "print(os.environ['TZ'])"
   ]
  },
  {
   "cell_type": "code",
   "execution_count": null,
   "metadata": {},
   "outputs": [],
   "source": [
    "classdata = pd.read_csv('ClassSummaryMaster-All-010418-4PM.CSV')\n",
    "\n",
    "del classdata['textBox35']\n",
    "del classdata['textBox5']\n",
    "del classdata['textBox37']\n",
    "del classdata['textBox38']\n",
    "\n",
    "classdata"
   ]
  },
  {
   "cell_type": "markdown",
   "metadata": {},
   "source": [
    "## Switch Columns\n",
    "Follow [How to change the order of DataFrame columns?](https://stackoverflow.com/questions/13148429/how-to-change-the-order-of-dataframe-columns) and [Renaming columns in pandas](https://stackoverflow.com/questions/11346283/renaming-columns-in-pandas)\n",
    "\n",
    "Also [Pandas writing dataframe to CSV file](https://stackoverflow.com/questions/16923281/pandas-writing-dataframe-to-csv-file) and [How to avoid Python/Pandas creating an index in a saved csv?](https://stackoverflow.com/questions/20845213/how-to-avoid-python-pandas-creating-an-index-in-a-saved-csv)"
   ]
  },
  {
   "cell_type": "code",
   "execution_count": null,
   "metadata": {},
   "outputs": [],
   "source": [
    "cols = classdata.columns.tolist()\n",
    "cols"
   ]
  },
  {
   "cell_type": "code",
   "execution_count": null,
   "metadata": {},
   "outputs": [],
   "source": [
    "cols = cols[-3:-2] + cols[:-3] + cols[-2:]\n",
    "cols = cols[0:7] + cols[-2:-1] + cols[7:-2] + cols[-1:]\n",
    "cols"
   ]
  },
  {
   "cell_type": "code",
   "execution_count": null,
   "metadata": {},
   "outputs": [],
   "source": [
    "classdataFixed = classdata[cols]\n",
    "classdataFixed\n",
    "\n",
    "classdataFixed.columns = ['Class Code',\n",
    " 'Room',\n",
    " 'Min',\n",
    " 'Max',\n",
    " 'Pending',\n",
    " 'Enrolled',\n",
    " 'Waitlisted',\n",
    " 'Open',\n",
    " 'Start Date',\n",
    " 'End Date',\n",
    " 'Start Time',\n",
    " 'End Time',\n",
    " 'Days',\n",
    " 'Adjudicator',\n",
    " 'Status']\n",
    "classdataFixed"
   ]
  },
  {
   "cell_type": "code",
   "execution_count": null,
   "metadata": {},
   "outputs": [],
   "source": [
    "classdataFixed.to_csv('ClassSummaryMaster-Piano-12282017-2PM.CSV', index = False)"
   ]
  },
  {
   "cell_type": "code",
   "execution_count": null,
   "metadata": {},
   "outputs": [],
   "source": [
    "dataset = pd.DataFrame(np.random.randint(0,50,size=(125,2)), columns=('DT','val'))    \n",
    "d1 = dataset.reset_index()\n",
    "del d1['index']\n",
    "\n",
    "d = \\\n",
    "    {name: group for name, group in d1.groupby(np.arange(len(d1)) // 25)}\n",
    "for key, value in sorted(d.items()):   \n",
    "    #print(key, value)\n",
    "    s = \\\n",
    "        {name: group for name, group in value.groupby(np.arange(len(value)) % 5)}\n",
    "    for key, value in sorted(s.items()):\n",
    "        print(key, value)\n",
    "        last_var = value['val'].iloc[-1]"
   ]
  },
  {
   "cell_type": "code",
   "execution_count": null,
   "metadata": {},
   "outputs": [],
   "source": [
    "from datetime import *\n",
    "from dateutil.tz import *\n",
    "# datetime.date.today().strftime(\"%B %d, %Y\")\n",
    "# datetime.datetime.now().strftime(\"%I:%M%p on %B %d, %Y\")\n",
    "datetime.now(tzlocal()).strftime(\"%Y%m%d-%H%M-%Z\")"
   ]
  },
  {
   "cell_type": "code",
   "execution_count": null,
   "metadata": {},
   "outputs": [],
   "source": [
    "dfx = pd.read_excel(open('CourseFactorTable.xlsx','rb'), sheetname='Sheet1')\n",
    "dfx"
   ]
  },
  {
   "cell_type": "code",
   "execution_count": null,
   "metadata": {},
   "outputs": [],
   "source": []
  }
 ],
 "metadata": {
  "kernelspec": {
   "display_name": "Python 3",
   "language": "python",
   "name": "python3"
  },
  "language_info": {
   "codemirror_mode": {
    "name": "ipython",
    "version": 3
   },
   "file_extension": ".py",
   "mimetype": "text/x-python",
   "name": "python",
   "nbconvert_exporter": "python",
   "pygments_lexer": "ipython3",
   "version": "3.6.3"
  }
 },
 "nbformat": 4,
 "nbformat_minor": 2
}
