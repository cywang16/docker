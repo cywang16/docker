{
 "cells": [
  {
   "cell_type": "markdown",
   "metadata": {},
   "source": [
    "# Format JSON\n"
   ]
  },
  {
   "cell_type": "code",
   "execution_count": null,
   "metadata": {
    "scrolled": true
   },
   "outputs": [],
   "source": [
    "jsonStr = \"\"\"\n",
    "{\n",
    "    \"persons\": [\n",
    "        {\n",
    "            \"city\": \"Seattle\", \n",
    "            \"name\": \"Brian\"\n",
    "        }, \n",
    "        {\n",
    "            \"city\": \"Amsterdam\", \n",
    "            \"name\": \"David\"\n",
    "        }\n",
    "    ]\n",
    "}\n",
    "\"\"\"\n",
    "\n",
    "import json\n",
    "parsed = json.loads(jsonStr)\n",
    "print(json.dumps(parsed, indent = 2, sort_keys = True))\n",
    "print(json.dumps(parsed))"
   ]
  },
  {
   "cell_type": "code",
   "execution_count": null,
   "metadata": {
    "scrolled": true
   },
   "outputs": [],
   "source": [
    "with open('jsonfile.txt', 'r') as handle, open('jsonpretty.json', 'w') as pretty, open('jsononeline.json', 'w') as oneline:\n",
    "    parsed = json.load(handle)\n",
    "    pretty.write(json.dumps(parsed, indent = 2, sort_keys = True))\n",
    "    pretty.close()\n",
    "    oneline.write(json.dumps(parsed))\n",
    "    oneline.close()\n",
    "\n",
    "with open('jsonpretty.json') as pretty:\n",
    "    lines = pretty.readlines()\n",
    "    for line in lines:\n",
    "        print(line.rstrip())\n",
    "\n",
    "with open('jsononeline.json') as pretty:\n",
    "    lines = pretty.readlines()\n",
    "    for line in lines:\n",
    "        print(line.rstrip())"
   ]
  },
  {
   "cell_type": "markdown",
   "metadata": {},
   "source": [
    "# URL"
   ]
  },
  {
   "cell_type": "code",
   "execution_count": null,
   "metadata": {
    "scrolled": true
   },
   "outputs": [],
   "source": [
    "from urllib.parse import urlparse, unquote, urlencode, quote\n",
    "o = urlparse('http://www.cwi.nl:80/%7Eguido/Python.html')\n",
    "o"
   ]
  },
  {
   "cell_type": "code",
   "execution_count": null,
   "metadata": {
    "scrolled": true
   },
   "outputs": [],
   "source": [
    "with open('url.txt', 'r') as urlhandle:\n",
    "    lines = urlhandle.readlines()\n",
    "    for l in lines:\n",
    "        print(unquote(l))"
   ]
  },
  {
   "cell_type": "code",
   "execution_count": null,
   "metadata": {},
   "outputs": [],
   "source": [
    "with open('url.txt', 'r') as urlhandle:\n",
    "    lines = urlhandle.readlines()\n",
    "    for l in lines:\n",
    "        print(quote(l))"
   ]
  },
  {
   "cell_type": "code",
   "execution_count": null,
   "metadata": {},
   "outputs": [],
   "source": [
    "from html import escape\n",
    "\n",
    "with open('url.txt', 'r') as urlhandle, open('url.escape.txt', 'w') as urlescape:\n",
    "    lines = urlhandle.readlines()\n",
    "    for l in lines:\n",
    "        print(escape(l))\n",
    "        urlescape.write('{}\\n'.format(escape(l)))"
   ]
  },
  {
   "cell_type": "markdown",
   "metadata": {},
   "source": [
    "# XML"
   ]
  },
  {
   "cell_type": "code",
   "execution_count": null,
   "metadata": {
    "scrolled": true
   },
   "outputs": [],
   "source": [
    "import xml.etree.ElementTree as ET\n",
    "\n",
    "tree = ET.parse('xmlfile.txt')\n",
    "# tree.write('xmlparsed.xml', method='xml')\n",
    "tree"
   ]
  },
  {
   "cell_type": "code",
   "execution_count": null,
   "metadata": {
    "scrolled": true
   },
   "outputs": [],
   "source": [
    "import xml.dom.minidom\n",
    "with open('xmlpretty.txt', 'w') as xmlpretty:\n",
    "    xml = xml.dom.minidom.parse('xmlfile.txt')\n",
    "    xmlparsed = xml.toprettyxml()\n",
    "    xmlpretty.write(xmlparsed)\n",
    "    xmlpretty.close()\n",
    "    print(xmlparsed)"
   ]
  },
  {
   "cell_type": "code",
   "execution_count": null,
   "metadata": {
    "scrolled": true
   },
   "outputs": [],
   "source": []
  }
 ],
 "metadata": {
  "kernelspec": {
   "display_name": "Python 3",
   "language": "python",
   "name": "python3"
  },
  "language_info": {
   "codemirror_mode": {
    "name": "ipython",
    "version": 3
   },
   "file_extension": ".py",
   "mimetype": "text/x-python",
   "name": "python",
   "nbconvert_exporter": "python",
   "pygments_lexer": "ipython3",
   "version": "3.7.3"
  }
 },
 "nbformat": 4,
 "nbformat_minor": 2
}
