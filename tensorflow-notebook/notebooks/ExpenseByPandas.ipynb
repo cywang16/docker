{
 "cells": [
  {
   "cell_type": "markdown",
   "metadata": {},
   "source": [
    "## [Pandas Reference](https://pandas.pydata.org/pandas-docs/stable/index.html)\n",
    "1. [Find the unique values in a column and then sort them](https://stackoverflow.com/questions/32072076/find-the-unique-values-in-a-column-and-then-sort-them)\n",
    "2. [How to select rows from a DataFrame based on column values?](https://stackoverflow.com/questions/17071871/how-to-select-rows-from-a-dataframe-based-on-column-values)\n",
    "3. [Selecting multiple columns in a pandas dataframe](https://stackoverflow.com/questions/11285613/selecting-multiple-columns-in-a-pandas-dataframe)"
   ]
  },
  {
   "cell_type": "code",
   "execution_count": null,
   "metadata": {
    "scrolled": true
   },
   "outputs": [],
   "source": [
    "import os\n",
    "import pandas as pd\n",
    "import numpy as np\n",
    "import matplotlib as mpl\n",
    "import matplotlib.pyplot as plt\n",
    "print('pandas version: {}'.format(pd.__version__))\n",
    "print('numpy version: {}'.format(np.__version__))\n",
    "print('matplotlib version: {}'.format(mpl.__version__))"
   ]
  },
  {
   "cell_type": "code",
   "execution_count": null,
   "metadata": {},
   "outputs": [],
   "source": [
    "def exportSheet(data, folder, name):\n",
    "    if not os.path.exists(folder):\n",
    "        os.makedirs(folder)\n",
    "    data.to_csv('{}/{}.CSV'.format(folder, name), index = False)\n",
    "\n",
    "def getAccounts(csv):\n",
    "    expenses = pd.read_csv(csv)\n",
    "    uniqueAccounts = expenses['Account'].unique()\n",
    "    uniqueAccounts.sort()\n",
    "    return uniqueAccounts\n",
    "\n",
    "def getCategories(csv):\n",
    "    expenses = pd.read_csv(csv)\n",
    "    uniqueCategories = expenses['Category'].unique()\n",
    "    uniqueCategories.sort()\n",
    "    return uniqueCategories\n",
    "\n",
    "def getParentCategories(csv):\n",
    "    expenses = pd.read_csv(csv)\n",
    "    uniqueParentCategories = expenses['Parent Category'].unique()\n",
    "    uniqueParentCategories.sort()\n",
    "    return uniqueParentCategories\n",
    "\n",
    "def summarizeExpenses(accountexpenses, categorytranslation, outputdir):\n",
    "    accountsummary = accountexpenses[['Category', 'Amount']].groupby('Category').agg({'Amount': 'sum'})\n",
    "    exportSheet(accountsummary, outputdir, 'summary')\n",
    "    summarytrans = pd.merge(accountsummary, categorytranslation, on = 'Category', how = 'outer')\n",
    "    # summarytrans = summarytrans[summarytrans.Amount.notnull()]\n",
    "    exportSheet(summarytrans[summarytrans.Amount.notnull()][['CategoryZh', 'Amount']], outputdir, 'summaryTrans')\n",
    "\n",
    "def parseExpenses(csv, accounts, categorytranslation, folder, subfolder):\n",
    "    expenses = pd.read_csv(csv)\n",
    "    outputdir = '{}/{}'.format(folder, subfolder)\n",
    "    accountexpenses = expenses[expenses['Account'].isin(accounts)]\n",
    "    '''\n",
    "    accountsummary = accountexpenses[['Category', 'Amount']].groupby('Category').agg({'Amount': 'sum'})\n",
    "    # accountsummary['Category'] = accountsummary.index\n",
    "    # exportSheet(accountsummary[['Category', 'Amount']], outputdir, 'summary')\n",
    "    exportSheet(accountsummary, outputdir, 'summary')\n",
    "    summarytrans = pd.merge(accountsummary, categorytranslation, on = 'Category', how = 'outer')\n",
    "    summarytrans = summarytrans[summarytrans.Amount.notnull()]\n",
    "    exportSheet(summarytrans[['CategoryZh', 'Amount']], outputdir, 'summaryTrans')\n",
    "    '''\n",
    "    summarizeExpenses(accountexpenses, categorytranslation, outputdir)\n",
    "    \n",
    "    for category in accountexpenses['Category'].unique():\n",
    "        datasetraw = accountexpenses[accountexpenses['Category'] == category].sort_values('Date')\n",
    "        dataset = datasetraw[['Date', 'Description', 'Original Description',\n",
    "                              'Amount', 'Type', 'Account', 'Memo', 'Pending']]\n",
    "        dataset.loc['Total'] = pd.Series(dataset['Amount'].sum(), index = ['Amount'])\n",
    "        exportSheet(dataset, outputdir, category)\n",
    "\n",
    "def pickExpensesByAccounts(csv, accounts, categorytranslation, folder, subfolder, accountCategory):\n",
    "    expenses = pd.read_csv(csv)\n",
    "    outputdir = '{}/{}'.format(folder, subfolder)\n",
    "    accountexpenses = expenses[expenses['Account'].isin(accounts)]\n",
    "    summarizeExpenses(accountexpenses, categorytranslation, outputdir)\n",
    "    exportSheet(accountexpenses[['Date', 'Description', 'Original Description',\n",
    "                                 'Amount', 'Type', 'Parent Category', 'Category',\n",
    "                                 'Account', 'Memo', 'Pending']], outputdir, accountCategory)"
   ]
  },
  {
   "cell_type": "code",
   "execution_count": null,
   "metadata": {},
   "outputs": [],
   "source": [
    "getAccounts('Expenses.csv')\n",
    "getAccounts('../work/transactions_20191122_past90days.csv')\n",
    "parseExpenses('Expenses.csv', ['0289 * Business Member Share Savings',\n",
    "                               '0388 * Business Basic Checking',\n",
    "                               '5734 * Member Share Savings',\n",
    "                               '7238 * ',\n",
    "                               'Adv Plus Banking - 8129',\n",
    "                               'Annie - 9823',\n",
    "                               'Bryce - 9470',\n",
    "                               'Nicole - 9471'], '20191114', 'bankaccounts')\n",
    "parseExpenses('Expenses.csv', ['Hilton Honors Card',\n",
    "                               'chunyenwang-8046'], '20191114', 'creditcards')"
   ]
  },
  {
   "cell_type": "code",
   "execution_count": null,
   "metadata": {},
   "outputs": [],
   "source": [
    "expenses = pd.read_csv('Expenses.csv')\n",
    "\n",
    "cols = expenses.columns.tolist()\n",
    "print(cols)\n",
    "uniqueAccounts = expenses['Account'].unique()\n",
    "uniqueAccounts.sort()\n",
    "print(uniqueAccounts)\n",
    "uniqueCategories = expenses['Category'].unique()\n",
    "uniqueCategories.sort()\n",
    "print(uniqueCategories)\n",
    "\n",
    "creditcards = expenses[expenses['Account'].isin(['Hilton Honors Card', 'chunyenwang-8046'])]\n",
    "creditcardsummary = creditcards.groupby('Category').agg({'Amount': 'sum'})\n",
    "creditcardsummary['Category'] = summary.index\n",
    "print(creditcardsummary)\n",
    "exportSheet(creditcardsummary[['Category', 'Amount']], '20191114/creditcards', 'summary')\n",
    "\n",
    "for category in creditcards['Category'].unique():\n",
    "    datasetraw = creditcards[creditcards['Category'] == category]\n",
    "    dataset = datasetraw[['Date', 'Description', 'Original Description', 'Amount', 'Type', 'Account', 'Memo', 'Pending']]\n",
    "    dataset.loc['Total'] = pd.Series(dataset['Amount'].sum(), index = ['Amount'])\n",
    "    exportSheet(dataset, '20191114/creditcards', category)\n",
    "\n",
    "\n",
    "'''\n",
    "Uncategorized = creditcards[creditcards['Category'] == 'Uncategorized']\n",
    "Uncategorized.loc['Total'] = pd.Series([Uncategorized['Amount'].sum(), 'Uncategorized'],\n",
    "                                       index = ['Amount', 'Category'])\n",
    "exportSheet(Uncategorized, '20191114', 'Uncategorized')\n",
    "'''"
   ]
  },
  {
   "cell_type": "code",
   "execution_count": null,
   "metadata": {},
   "outputs": [],
   "source": [
    "expenses[['Date', 'Description', 'Original Description',\n",
    "          'Amount', 'Type', 'Parent Category', 'Category',\n",
    "          'Account', 'Memo', 'Pending']].head()"
   ]
  },
  {
   "cell_type": "code",
   "execution_count": null,
   "metadata": {},
   "outputs": [],
   "source": [
    "print(getAccounts('../work/transactions_20191122_past90days.csv'))\n",
    "categoryEN = getCategories('../work/transactions_20191122_past90days.csv')\n",
    "categoryTrans = list(zip(categoryEN.tolist(), ['ATM費用', '酒類和酒吧', '汽車與運輸', '汽車保險', '書籍和用品', '商業服務',\n",
    "                                 '慈善', '支票', '咖啡店', '信用卡付款', '分紅和上限', '醫生', '教育',\n",
    "                                 '電子和軟件', '娛樂', '快餐', '費用', '財務費用', '財務顧問', '餐飲',\n",
    "                                 '汽油', '雜貨店', '健康與健身', '房屋', '房屋裝修', '收入', '利息收入',\n",
    "                                 '投資', '兒童活動', '手機', '電影和DVD', '音樂', '音樂課', '辦公用品',\n",
    "                                 '停車', '個人護理', '出租車', '服務和零件', '運輸', '購物', '稅收', '轉帳', '水電費']))\n",
    "catDf = pd.DataFrame(categoryTrans, columns = ['Category', 'CategoryZh'])\n",
    "catDf.to_csv('../work/categories_chinese_translation.csv', index = False)"
   ]
  },
  {
   "cell_type": "code",
   "execution_count": null,
   "metadata": {},
   "outputs": [],
   "source": [
    "parseExpenses('../work/transactions_20191122_past90days.csv', ['0289 * Business Member Share Savings',\n",
    "                               '0388 * Business Basic Checking',\n",
    "                               '5734 * Member Share Savings',\n",
    "                               '7238 * ',\n",
    "                               'Adv Plus Banking - 8129',\n",
    "                               'Annie - 9823',\n",
    "                               'Bryce - 9470',\n",
    "                               'Nicole - 9471'], catDf, '../work/transactions_20191122_past90days', 'bankaccounts')\n",
    "parseExpenses('../work/transactions_20191122_past90days.csv', ['Hilton Honors Card',\n",
    "                               'chunyenwang-8046'], catDf, '../work/transactions_20191122_past90days', 'creditcards')"
   ]
  },
  {
   "cell_type": "code",
   "execution_count": null,
   "metadata": {},
   "outputs": [],
   "source": [
    "catDf = pd.read_csv('../work/categories_chinese_translation.csv')\n",
    "pickExpensesByAccounts('../work/transactions_20191122_past90days.csv',\n",
    "                       ['0289 * Business Member Share Savings',\n",
    "                        '0388 * Business Basic Checking',\n",
    "                        '5734 * Member Share Savings',\n",
    "                        '7238 * ',\n",
    "                        'Adv Plus Banking - 8129',\n",
    "                        'Annie - 9823',\n",
    "                        'Bryce - 9470',\n",
    "                        'Nicole - 9471'],\n",
    "                       catDf, '../work/transactions_20191122_past90days',\n",
    "                       'bankaccounts', 'bankaccounts')\n",
    "pickExpensesByAccounts('../work/transactions_20191122_past90days.csv',\n",
    "                       ['Hilton Honors Card',\n",
    "                        'chunyenwang-8046'],\n",
    "                       catDf, '../work/transactions_20191122_past90days',\n",
    "                       'creditcards', 'creditcards')"
   ]
  },
  {
   "cell_type": "code",
   "execution_count": null,
   "metadata": {},
   "outputs": [],
   "source": []
  }
 ],
 "metadata": {
  "kernelspec": {
   "display_name": "Python 3",
   "language": "python",
   "name": "python3"
  },
  "language_info": {
   "codemirror_mode": {
    "name": "ipython",
    "version": 3
   },
   "file_extension": ".py",
   "mimetype": "text/x-python",
   "name": "python",
   "nbconvert_exporter": "python",
   "pygments_lexer": "ipython3",
   "version": "3.7.3"
  }
 },
 "nbformat": 4,
 "nbformat_minor": 2
}
