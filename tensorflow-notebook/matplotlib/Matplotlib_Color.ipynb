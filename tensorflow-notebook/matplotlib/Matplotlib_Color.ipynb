{
 "cells": [
  {
   "cell_type": "markdown",
   "metadata": {},
   "source": [
    "# Colors\n",
    "[Colors](https://matplotlib.org/2.0.2/users/color_index.html)"
   ]
  },
  {
   "cell_type": "code",
   "execution_count": null,
   "metadata": {},
   "outputs": [],
   "source": [
    "import numpy as np\n",
    "import matplotlib.pyplot as plt\n",
    "import matplotlib as mpl\n",
    "th = np.linspace(0, 2*np.pi, 128)\n",
    "\n",
    "def demo(sty):\n",
    "    mpl.style.use(sty)\n",
    "    fig, ax = plt.subplots(figsize=(3, 3))\n",
    "\n",
    "    ax.set_title('style: {!r}'.format(sty), color='C0')\n",
    "\n",
    "    ax.plot(th, np.cos(th), 'C1', label='C1')\n",
    "    ax.plot(th, np.sin(th), 'C2', label='C2')\n",
    "    ax.legend()\n",
    "    plt.show()\n",
    "\n",
    "demo('default')\n",
    "demo('seaborn')"
   ]
  },
  {
   "cell_type": "code",
   "execution_count": null,
   "metadata": {},
   "outputs": [],
   "source": []
  }
 ],
 "metadata": {
  "kernelspec": {
   "display_name": "Python 3",
   "language": "python",
   "name": "python3"
  },
  "language_info": {
   "codemirror_mode": {
    "name": "ipython",
    "version": 3
   },
   "file_extension": ".py",
   "mimetype": "text/x-python",
   "name": "python",
   "nbconvert_exporter": "python",
   "pygments_lexer": "ipython3",
   "version": "3.6.3"
  }
 },
 "nbformat": 4,
 "nbformat_minor": 2
}
