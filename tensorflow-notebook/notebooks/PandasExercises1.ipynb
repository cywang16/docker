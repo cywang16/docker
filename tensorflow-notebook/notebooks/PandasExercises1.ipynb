{
 "cells": [
  {
   "cell_type": "code",
   "execution_count": 1,
   "metadata": {},
   "outputs": [
    {
     "name": "stdout",
     "output_type": "stream",
     "text": [
      "pandas version: 0.19.2\n",
      "numpy version: 1.12.1\n",
      "matplotlib version: 2.0.2\n"
     ]
    }
   ],
   "source": [
    "import pandas as pd\n",
    "import numpy as np\n",
    "import matplotlib as mpl\n",
    "import matplotlib.pyplot as plt\n",
    "print('pandas version: {}'.format(pd.__version__))\n",
    "print('numpy version: {}'.format(np.__version__))\n",
    "print('matplotlib version: {}'.format(mpl.__version__))"
   ]
  },
  {
   "cell_type": "code",
   "execution_count": null,
   "metadata": {},
   "outputs": [],
   "source": [
    "# list data files\n",
    "import os\n",
    "print(os.listdir())\n",
    "print(os.getcwd())"
   ]
  },
  {
   "cell_type": "code",
   "execution_count": null,
   "metadata": {},
   "outputs": [],
   "source": [
    "classdata = pd.read_csv('ClassSummaryMaster-Piano-12282017-6AM.CSV')\n",
    "'''\n",
    "del classdata['textBox35']\n",
    "del classdata['textBox5']\n",
    "del classdata['textBox37']\n",
    "del classdata['textBox38']\n",
    "'''\n",
    "classdata"
   ]
  },
  {
   "cell_type": "markdown",
   "metadata": {},
   "source": [
    "## Switch Columns\n",
    "Follow [How to change the order of DataFrame columns?](https://stackoverflow.com/questions/13148429/how-to-change-the-order-of-dataframe-columns) and [Renaming columns in pandas](https://stackoverflow.com/questions/11346283/renaming-columns-in-pandas)\n",
    "\n",
    "Also [Pandas writing dataframe to CSV file](https://stackoverflow.com/questions/16923281/pandas-writing-dataframe-to-csv-file) and [How to avoid Python/Pandas creating an index in a saved csv?](https://stackoverflow.com/questions/20845213/how-to-avoid-python-pandas-creating-an-index-in-a-saved-csv)"
   ]
  },
  {
   "cell_type": "code",
   "execution_count": 22,
   "metadata": {},
   "outputs": [
    {
     "data": {
      "text/plain": [
       "['textBox25',\n",
       " 'textBox23',\n",
       " 'textBox21',\n",
       " 'textBox19',\n",
       " 'textBox17',\n",
       " 'textBox26',\n",
       " 'textBox13',\n",
       " 'textBox31',\n",
       " 'textBox11',\n",
       " 'textBox34',\n",
       " 'textBox12',\n",
       " 'textBox7',\n",
       " 'textBox2',\n",
       " 'textBox36',\n",
       " 'textBox40']"
      ]
     },
     "execution_count": 22,
     "metadata": {},
     "output_type": "execute_result"
    }
   ],
   "source": [
    "cols = classdata.columns.tolist()\n",
    "cols"
   ]
  },
  {
   "cell_type": "code",
   "execution_count": 23,
   "metadata": {},
   "outputs": [
    {
     "data": {
      "text/plain": [
       "['textBox2',\n",
       " 'textBox25',\n",
       " 'textBox23',\n",
       " 'textBox21',\n",
       " 'textBox19',\n",
       " 'textBox17',\n",
       " 'textBox26',\n",
       " 'textBox36',\n",
       " 'textBox13',\n",
       " 'textBox31',\n",
       " 'textBox11',\n",
       " 'textBox34',\n",
       " 'textBox12',\n",
       " 'textBox7',\n",
       " 'textBox40']"
      ]
     },
     "execution_count": 23,
     "metadata": {},
     "output_type": "execute_result"
    }
   ],
   "source": [
    "cols = cols[-3:-2] + cols[:-3] + cols[-2:]\n",
    "cols = cols[0:7] + cols[-2:-1] + cols[7:-2] + cols[-1:]\n",
    "cols"
   ]
  },
  {
   "cell_type": "code",
   "execution_count": null,
   "metadata": {},
   "outputs": [],
   "source": [
    "classdataFixed = classdata[cols]\n",
    "classdataFixed\n",
    "\n",
    "classdataFixed.columns = ['Class Code',\n",
    " 'Room',\n",
    " 'Min',\n",
    " 'Max',\n",
    " 'Pending',\n",
    " 'Enrolled',\n",
    " 'Waitlisted',\n",
    " 'Open',\n",
    " 'Start Date',\n",
    " 'End Date',\n",
    " 'Start Time',\n",
    " 'End Time',\n",
    " 'Days',\n",
    " 'Adjudicator',\n",
    " 'Status']\n",
    "classdataFixed"
   ]
  },
  {
   "cell_type": "code",
   "execution_count": 31,
   "metadata": {},
   "outputs": [],
   "source": [
    "classdataFixed.to_csv('ClassSummaryMaster-Piano-12282017-2PM.CSV', index = False)"
   ]
  },
  {
   "cell_type": "code",
   "execution_count": null,
   "metadata": {},
   "outputs": [],
   "source": [
    "dataset = pd.DataFrame(np.random.randint(0,50,size=(125,2)), columns=('DT','val'))    \n",
    "d1 = dataset.reset_index()\n",
    "del d1['index']\n",
    "\n",
    "d = \\\n",
    "    {name: group for name, group in d1.groupby(np.arange(len(d1)) // 25)}\n",
    "for key, value in sorted(d.items()):   \n",
    "    #print(key, value)\n",
    "    s = \\\n",
    "        {name: group for name, group in value.groupby(np.arange(len(value)) % 5)}\n",
    "    for key, value in sorted(s.items()):\n",
    "        print(key, value)\n",
    "        last_var = value['val'].iloc[-1]"
   ]
  },
  {
   "cell_type": "markdown",
   "metadata": {},
   "source": [
    "example from [Sorting list according to other list in python not working when second list contains numpy arrays](https://stackoverflow.com/questions/48156392/sorting-list-according-to-other-list-in-python-not-working-when-second-list-cont)\n"
   ]
  },
  {
   "cell_type": "code",
   "execution_count": 7,
   "metadata": {},
   "outputs": [
    {
     "data": {
      "text/plain": [
       "[(1, array([4, 5])), (1, array([3, 4]))]"
      ]
     },
     "execution_count": 7,
     "metadata": {},
     "output_type": "execute_result"
    }
   ],
   "source": [
    "a=[np.array([4,5]),np.array([3,4])]\n",
    "b=[1,1]\n",
    "e=zip(b,a)\n",
    "# ValueError: The truth value of an array with more than one element is ambiguous. Use a.any() or a.all()\n",
    "# sorted(e)\n",
    "sorted(e, key=lambda x: x[0])"
   ]
  },
  {
   "cell_type": "code",
   "execution_count": null,
   "metadata": {},
   "outputs": [],
   "source": []
  }
 ],
 "metadata": {
  "kernelspec": {
   "display_name": "Python 3",
   "language": "python",
   "name": "python3"
  },
  "language_info": {
   "codemirror_mode": {
    "name": "ipython",
    "version": 3
   },
   "file_extension": ".py",
   "mimetype": "text/x-python",
   "name": "python",
   "nbconvert_exporter": "python",
   "pygments_lexer": "ipython3",
   "version": "3.6.3"
  }
 },
 "nbformat": 4,
 "nbformat_minor": 2
}
