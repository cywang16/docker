{
 "cells": [
  {
   "cell_type": "markdown",
   "metadata": {},
   "source": [
    "# Format JSON\n"
   ]
  },
  {
   "cell_type": "code",
   "execution_count": null,
   "metadata": {},
   "outputs": [],
   "source": [
    "jsonStr = \"\"\"\n",
    "{\n",
    "    \"persons\": [\n",
    "        {\n",
    "            \"city\": \"Seattle\", \n",
    "            \"name\": \"Brian\"\n",
    "        }, \n",
    "        {\n",
    "            \"city\": \"Amsterdam\", \n",
    "            \"name\": \"David\"\n",
    "        }\n",
    "    ]\n",
    "}\n",
    "\"\"\"\n",
    "\n",
    "import json\n",
    "parsed = json.loads(jsonStr)\n",
    "print(json.dumps(parsed, indent = 2, sort_keys = True))\n",
    "print(json.dumps(parsed))"
   ]
  },
  {
   "cell_type": "code",
   "execution_count": null,
   "metadata": {},
   "outputs": [],
   "source": [
    "with open('jsonfile.txt', 'r') as handle, open('jsonpretty.json', 'w') as pretty, open('jsononeline.json', 'w') as oneline:\n",
    "    parsed = json.load(handle)\n",
    "    pretty.write(json.dumps(parsed, indent = 2, sort_keys = True))\n",
    "    pretty.close()\n",
    "    oneline.write(json.dumps(parsed))\n",
    "    oneline.close()\n",
    "\n",
    "with open('jsonpretty.json') as pretty:\n",
    "    lines = pretty.readlines()\n",
    "    for line in lines:\n",
    "        print(line.rstrip())\n",
    "\n",
    "with open('jsononeline.json') as pretty:\n",
    "    lines = pretty.readlines()\n",
    "    for line in lines:\n",
    "        print(line.rstrip())"
   ]
  },
  {
   "cell_type": "markdown",
   "metadata": {},
   "source": [
    "# URL"
   ]
  },
  {
   "cell_type": "code",
   "execution_count": null,
   "metadata": {},
   "outputs": [],
   "source": [
    "from urllib.parse import urlparse, unquote\n",
    "o = urlparse('http://www.cwi.nl:80/%7Eguido/Python.html')\n",
    "o"
   ]
  },
  {
   "cell_type": "code",
   "execution_count": null,
   "metadata": {},
   "outputs": [],
   "source": [
    "with open('url.txt', 'r') as urlhandle:\n",
    "    lines = urlhandle.readlines()\n",
    "    for l in lines:\n",
    "        print(unquote(l))"
   ]
  },
  {
   "cell_type": "code",
   "execution_count": null,
   "metadata": {},
   "outputs": [],
   "source": []
  }
 ],
 "metadata": {
  "kernelspec": {
   "display_name": "Python 3",
   "language": "python",
   "name": "python3"
  },
  "language_info": {
   "codemirror_mode": {
    "name": "ipython",
    "version": 3
   },
   "file_extension": ".py",
   "mimetype": "text/x-python",
   "name": "python",
   "nbconvert_exporter": "python",
   "pygments_lexer": "ipython3",
   "version": "3.6.6"
  }
 },
 "nbformat": 4,
 "nbformat_minor": 2
}
