{
 "cells": [
  {
   "cell_type": "markdown",
   "metadata": {},
   "source": [
    "# Image Tutorial Notes\n",
    "\n",
    "## Links\n",
    "\n",
    "- Tutorial pages:\n",
    "  * [Matplotlib image tutorial](https://matplotlib.org/users/image_tutorial.html)\n",
    "  * [Image manipulation and processing using Numpy and Scipy](http://www.scipy-lectures.org/advanced/image_processing/)\n",
    "- Image file formats:\n",
    "  * [PNG (Portable Network Graphics) Wiki](https://en.wikipedia.org/wiki/Portable_Network_Graphics)\n",
    "  * [Comparison of graphics file formats](https://en.wikipedia.org/wiki/Comparison_of_graphics_file_formats)\n",
    "- Stackoverflow:\n",
    "  * [Matplotlib reads jpg into int8 and png into normalized float](https://stackoverflow.com/questions/46013594/matplotlib-reads-jpg-into-int8-and-png-into-normalized-float)\n",
    "- Libraries:\n",
    "  * [matplotlib.image](https://matplotlib.org/2.0.2/api/image_api.html)"
   ]
  },
  {
   "cell_type": "code",
   "execution_count": null,
   "metadata": {},
   "outputs": [],
   "source": [
    "import matplotlib.pyplot as plt\n",
    "import matplotlib.image as mpimg\n",
    "import numpy as np\n",
    "from scipy import misc\n",
    "\n",
    "butterfly = mpimg.imread('butterfly.jpg')\n",
    "fox = misc.face()\n",
    "print('butterfly\\'s shape: {}'.format(butterfly.shape))\n",
    "print('fox\\'s shape: {}'.format(fox.shape))"
   ]
  },
  {
   "cell_type": "code",
   "execution_count": null,
   "metadata": {},
   "outputs": [],
   "source": [
    "misc.imsave('butterfly.png', butterfly)\n",
    "butterflypng = mpimg.imread('butterfly.png')\n",
    "print(butterflypng.shape)\n",
    "pngbflyplot = plt.imshow(butterflypng)"
   ]
  },
  {
   "cell_type": "markdown",
   "metadata": {},
   "source": [
    "## Plotting numpy arrays as images"
   ]
  },
  {
   "cell_type": "code",
   "execution_count": null,
   "metadata": {},
   "outputs": [],
   "source": [
    "imgplot = plt.imshow(butterfly)"
   ]
  },
  {
   "cell_type": "markdown",
   "metadata": {},
   "source": [
    "### Applying pseudocolor schemes to image plots"
   ]
  },
  {
   "cell_type": "code",
   "execution_count": null,
   "metadata": {},
   "outputs": [],
   "source": [
    "plt.imshow(butterfly[:, :, 0])"
   ]
  },
  {
   "cell_type": "code",
   "execution_count": null,
   "metadata": {},
   "outputs": [],
   "source": [
    "plt.imshow(butterfly[:, :, 0], cmap = 'hot')"
   ]
  },
  {
   "cell_type": "code",
   "execution_count": null,
   "metadata": {},
   "outputs": [],
   "source": [
    "# imgplot = plt.imshow(butterfly[:, :, 0])\n",
    "imgplot = plt.imshow(butterfly)\n",
    "plt.colorbar()"
   ]
  },
  {
   "cell_type": "markdown",
   "metadata": {},
   "source": [
    "### Following not quite working"
   ]
  },
  {
   "cell_type": "code",
   "execution_count": null,
   "metadata": {},
   "outputs": [],
   "source": [
    "# plt.hist(butterfly[:, :, 0].ravel(), bins=256, range=(0.0, 1.0), fc='k', ec='k')\n",
    "plt.hist(butterflynorm[:, :, 0].ravel(), bins=256, fc='k', ec='k')"
   ]
  },
  {
   "cell_type": "code",
   "execution_count": null,
   "metadata": {},
   "outputs": [],
   "source": [
    "butterfly[:, :, 0].ravel()"
   ]
  },
  {
   "cell_type": "code",
   "execution_count": null,
   "metadata": {},
   "outputs": [],
   "source": [
    "imgplot = plt.imshow(butterfly, clim=(0.0, 0.7))"
   ]
  },
  {
   "cell_type": "code",
   "execution_count": null,
   "metadata": {},
   "outputs": [],
   "source": [
    "# butterflynorm = butterfly / np.linalg.norm(butterfly)\n",
    "butterflynorm = butterfly / 256.0"
   ]
  },
  {
   "cell_type": "code",
   "execution_count": null,
   "metadata": {},
   "outputs": [],
   "source": [
    "butterflypng"
   ]
  },
  {
   "cell_type": "code",
   "execution_count": null,
   "metadata": {},
   "outputs": [],
   "source": [
    "np.all(butterflynorm == butterflypng)"
   ]
  },
  {
   "cell_type": "code",
   "execution_count": null,
   "metadata": {},
   "outputs": [],
   "source": [
    "plt.imshow(butterflynorm)"
   ]
  },
  {
   "cell_type": "code",
   "execution_count": null,
   "metadata": {},
   "outputs": [],
   "source": []
  }
 ],
 "metadata": {
  "kernelspec": {
   "display_name": "Python 3",
   "language": "python",
   "name": "python3"
  },
  "language_info": {
   "codemirror_mode": {
    "name": "ipython",
    "version": 3
   },
   "file_extension": ".py",
   "mimetype": "text/x-python",
   "name": "python",
   "nbconvert_exporter": "python",
   "pygments_lexer": "ipython3",
   "version": "3.6.3"
  }
 },
 "nbformat": 4,
 "nbformat_minor": 2
}
