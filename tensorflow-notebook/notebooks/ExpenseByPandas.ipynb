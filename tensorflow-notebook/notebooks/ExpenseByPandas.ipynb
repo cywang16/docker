{
 "cells": [
  {
   "cell_type": "markdown",
   "metadata": {},
   "source": [
    "## [Pandas Reference](https://pandas.pydata.org/pandas-docs/stable/index.html)\n",
    "1. [Find the unique values in a column and then sort them](https://stackoverflow.com/questions/32072076/find-the-unique-values-in-a-column-and-then-sort-them)\n",
    "2. [How to select rows from a DataFrame based on column values?](https://stackoverflow.com/questions/17071871/how-to-select-rows-from-a-dataframe-based-on-column-values)\n",
    "3. [Selecting multiple columns in a pandas dataframe](https://stackoverflow.com/questions/11285613/selecting-multiple-columns-in-a-pandas-dataframe)"
   ]
  },
  {
   "cell_type": "code",
   "execution_count": null,
   "metadata": {
    "scrolled": true
   },
   "outputs": [],
   "source": [
    "import os\n",
    "import pandas as pd\n",
    "import numpy as np\n",
    "import matplotlib as mpl\n",
    "import matplotlib.pyplot as plt\n",
    "print('pandas version: {}'.format(pd.__version__))\n",
    "print('numpy version: {}'.format(np.__version__))\n",
    "print('matplotlib version: {}'.format(mpl.__version__))"
   ]
  },
  {
   "cell_type": "code",
   "execution_count": null,
   "metadata": {},
   "outputs": [],
   "source": [
    "def exportSheet(data, folder, name):\n",
    "    if not os.path.exists(folder):\n",
    "        os.makedirs(folder)\n",
    "    data.to_csv('{}/{}.CSV'.format(folder, name), index = False)\n",
    "\n",
    "def getAccounts(csv):\n",
    "    expenses = pd.read_csv(csv)\n",
    "    uniqueAccounts = expenses['Account'].unique()\n",
    "    uniqueAccounts.sort()\n",
    "    print(uniqueAccounts)\n",
    "\n",
    "def parseExpenses(csv, accounts, folder, subfolder):\n",
    "    expenses = pd.read_csv(csv)\n",
    "    outputdir = '{}/{}'.format(folder, subfolder)\n",
    "    accountexpenses = expenses[expenses['Account'].isin(accounts)]\n",
    "    accountsummary = creditcards.groupby('Category').agg({'Amount': 'sum'})\n",
    "    accountsummary['Category'] = accountsummary.index\n",
    "    exportSheet(accountsummary[['Category', 'Amount']], outputdir, 'summary')\n",
    "    \n",
    "    for category in accountexpenses['Category'].unique():\n",
    "        datasetraw = accountexpenses[accountexpenses['Category'] == category].sort_values('Date')\n",
    "        dataset = datasetraw[['Date', 'Description', 'Original Description',\n",
    "                              'Amount', 'Type', 'Account', 'Memo', 'Pending']]\n",
    "        dataset.loc['Total'] = pd.Series(dataset['Amount'].sum(), index = ['Amount'])\n",
    "        exportSheet(dataset, outputdir, category)"
   ]
  },
  {
   "cell_type": "code",
   "execution_count": null,
   "metadata": {},
   "outputs": [],
   "source": [
    "getAccounts('Expenses.csv')\n",
    "parseExpenses('Expenses.csv', ['0289 * Business Member Share Savings',\n",
    "                               '0388 * Business Basic Checking',\n",
    "                               '5734 * Member Share Savings',\n",
    "                               '7238 * ',\n",
    "                               'Adv Plus Banking - 8129',\n",
    "                               'Annie - 9823',\n",
    "                               'Bryce - 9470',\n",
    "                               'Nicole - 9471'], '20191114', 'bankaccounts')\n",
    "parseExpenses('Expenses.csv', ['Hilton Honors Card',\n",
    "                               'chunyenwang-8046'], '20191114', 'creditcards')"
   ]
  },
  {
   "cell_type": "code",
   "execution_count": null,
   "metadata": {},
   "outputs": [],
   "source": [
    "expenses = pd.read_csv('Expenses.csv')\n",
    "\n",
    "cols = expenses.columns.tolist()\n",
    "print(cols)\n",
    "uniqueAccounts = expenses['Account'].unique()\n",
    "uniqueAccounts.sort()\n",
    "print(uniqueAccounts)\n",
    "uniqueCategories = expenses['Category'].unique()\n",
    "uniqueCategories.sort()\n",
    "print(uniqueCategories)\n",
    "\n",
    "creditcards = expenses[expenses['Account'].isin(['Hilton Honors Card', 'chunyenwang-8046'])]\n",
    "creditcardsummary = creditcards.groupby('Category').agg({'Amount': 'sum'})\n",
    "creditcardsummary['Category'] = summary.index\n",
    "print(creditcardsummary)\n",
    "exportSheet(creditcardsummary[['Category', 'Amount']], '20191114/creditcards', 'summary')\n",
    "\n",
    "for category in creditcards['Category'].unique():\n",
    "    datasetraw = creditcards[creditcards['Category'] == category]\n",
    "    dataset = datasetraw[['Date', 'Description', 'Original Description', 'Amount', 'Type', 'Account', 'Memo', 'Pending']]\n",
    "    dataset.loc['Total'] = pd.Series(dataset['Amount'].sum(), index = ['Amount'])\n",
    "    exportSheet(dataset, '20191114/creditcards', category)\n",
    "\n",
    "\n",
    "'''\n",
    "Uncategorized = creditcards[creditcards['Category'] == 'Uncategorized']\n",
    "Uncategorized.loc['Total'] = pd.Series([Uncategorized['Amount'].sum(), 'Uncategorized'],\n",
    "                                       index = ['Amount', 'Category'])\n",
    "exportSheet(Uncategorized, '20191114', 'Uncategorized')\n",
    "'''"
   ]
  },
  {
   "cell_type": "code",
   "execution_count": null,
   "metadata": {},
   "outputs": [],
   "source": [
    "expenses[['Date', 'Description', 'Original Description',\n",
    "          'Amount', 'Type', 'Parent Category', 'Category',\n",
    "          'Account', 'Memo', 'Pending']].head()"
   ]
  },
  {
   "cell_type": "code",
   "execution_count": null,
   "metadata": {},
   "outputs": [],
   "source": [
    "expenses"
   ]
  }
 ],
 "metadata": {
  "kernelspec": {
   "display_name": "Python 3",
   "language": "python",
   "name": "python3"
  },
  "language_info": {
   "codemirror_mode": {
    "name": "ipython",
    "version": 3
   },
   "file_extension": ".py",
   "mimetype": "text/x-python",
   "name": "python",
   "nbconvert_exporter": "python",
   "pygments_lexer": "ipython3",
   "version": "3.7.3"
  }
 },
 "nbformat": 4,
 "nbformat_minor": 2
}
