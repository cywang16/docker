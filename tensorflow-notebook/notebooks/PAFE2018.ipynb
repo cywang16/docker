{
 "cells": [
  {
   "cell_type": "code",
   "execution_count": null,
   "metadata": {},
   "outputs": [],
   "source": [
    "\n",
    "import os, sys\n",
    "import pandas as pd\n",
    "\n",
    "import pytz\n",
    "from datetime import datetime\n",
    "\n",
    "# dfx = pd.read_excel(open('CourseFactorTable.xlsx','rb'), sheetname='Sheet1')\n",
    "g_tz_pst = pytz.timezone('America/Los_Angeles')\n"
   ]
  },
  {
   "cell_type": "code",
   "execution_count": null,
   "metadata": {},
   "outputs": [],
   "source": [
    "classdata = pd.read_csv('ClassRoster.csv')\n",
    "\n",
    "for i, row in classdata.iterrows():\n",
    "    startDate = row['Start Date'].strip()\n",
    "    startTime = row['Start Time'].strip()\n",
    "    endDate = row['Enddate'].strip()\n",
    "    endTime = row['End Time'].strip()\n",
    "    classdata.set_value(i, 'Start Date', '{} {}'.format(startDate, startTime))\n",
    "    classdata.set_value(i, 'Enddate', '{} {}'.format(endDate, endTime))\n",
    "\n",
    "del classdata['Name']\n",
    "del classdata['Group Name']\n",
    "del classdata['Department']\n",
    "del classdata['Site Name']\n",
    "del classdata['Days']\n",
    "del classdata['Minimum Enrollment']\n",
    "del classdata['Capacity']\n",
    "del classdata['Enrolled']\n",
    "del classdata['Pending']\n",
    "del classdata['Waitlist']\n",
    "del classdata['Primary Phone']\n",
    "del classdata['Gender']\n",
    "del classdata['Class Fee']\n",
    "del classdata['Customerid']\n",
    "del classdata['Account ID']\n",
    "del classdata['DCol1']\n",
    "del classdata['Invoice Total']\n",
    "del classdata['Invoice Status CD']\n",
    "del classdata['Discount Amt']\n",
    "del classdata['Pmt Applied']\n",
    "del classdata['Amt Due']\n",
    "del classdata['Invoice Id']\n",
    "del classdata['Discount Flag']\n",
    "del classdata['Enrollment Status CD']\n",
    "del classdata['Males']\n",
    "del classdata['Females']\n",
    "del classdata['Collumn1']\n",
    "del classdata['Collumn2']\n",
    "del classdata['Collumn3']\n",
    "del classdata['Collumn4']\n",
    "del classdata['Event ID']\n",
    "del classdata['Courseid']\n",
    "del classdata['Custom Fields']\n",
    "del classdata['Start Time']\n",
    "del classdata['End Time']\n",
    "classdata"
   ]
  },
  {
   "cell_type": "code",
   "execution_count": null,
   "metadata": {},
   "outputs": [],
   "source": [
    "classdata.columns"
   ]
  },
  {
   "cell_type": "code",
   "execution_count": null,
   "metadata": {},
   "outputs": [],
   "source": [
    "classdata.columns = ['ClassCode',\n",
    "                     'CourseName',\n",
    "                     'StartDate',\n",
    "                     'EndDate',\n",
    "                     'FestivalName',\n",
    "                     'AdjudicatorLName',\n",
    "                     'AdjudicatorFName',\n",
    "                     'Room',\n",
    "                     'StudentLName',\n",
    "                     'StudentFName',\n",
    "                     'Age',\n",
    "                     'Program']\n",
    "classdata['RawProgram'] = classdata['Program']\n",
    "classdata"
   ]
  },
  {
   "cell_type": "code",
   "execution_count": null,
   "metadata": {},
   "outputs": [],
   "source": [
    "classdata['Program'][20]"
   ]
  },
  {
   "cell_type": "code",
   "execution_count": null,
   "metadata": {},
   "outputs": [],
   "source": [
    "classdata['CourseName'][0]"
   ]
  },
  {
   "cell_type": "code",
   "execution_count": null,
   "metadata": {},
   "outputs": [],
   "source": [
    "for i, row in classdata.iterrows():\n",
    "    oneCourse = row['CourseName'].strip()\n",
    "    classdata.set_value(i, 'CourseName', oneCourse)"
   ]
  },
  {
   "cell_type": "code",
   "execution_count": null,
   "metadata": {},
   "outputs": [],
   "source": [
    "classdata"
   ]
  },
  {
   "cell_type": "code",
   "execution_count": null,
   "metadata": {},
   "outputs": [],
   "source": [
    "def compact_datetime_String():\n",
    "    return datetime.now(g_tz_pst).strftime(\"%Y%m%d-%H%M-%Z\")\n",
    "\n",
    "def fixProgramValue(rawValue):\n",
    "    lines = rawValue.split('<br>')\n",
    "    outlines = []\n",
    "    for line in lines:\n",
    "        # print(line.strip())\n",
    "        outline = line.strip().replace('Q: Ensemble Size A:', ' - ')\n",
    "        outline = outline.replace('Q: Instrument/Voice A:', '</li><li>Instrument/Voice:', 1)\n",
    "        outline = outline.replace('Q: Instrument/Voice A:', '<ul><li>Instrument/Voice:', 1)\n",
    "        outline = outline.replace('Q: Piece 1a Title and Opus, etc. A:', '</li><li>')\n",
    "        outline = outline.replace('Q: Piece 1b Composer Full Name A:', ' by ')\n",
    "        outline = outline.replace('Q: Piece 2a Title and Opus, etc. A:', '</li><li>')\n",
    "        outline = outline.replace('Q: Piece 2b Composer Full Name A:', ' by ')\n",
    "        outline = outline.replace('Q: Teacher Full Name A:', '</li></ul>')\n",
    "        outline = outline.replace('Q: Ensemble Name A:', '<ul><li>Ensemble:')\n",
    "        outline = outline.replace('Q: Performer Names-Instruments (Separated by commas) A:', '</li><li>Performers:')\n",
    "        outline = outline.replace('Q: Performer Names (Separated by commas) A:', '</li><li>Performers:')\n",
    "        outline = outline.replace('Q: Piece 1a Full Title and Opera A:', '</li><li>')\n",
    "        outline = outline.replace('Q: Piece 2a Full Title and Opera A:', '</li><li>')\n",
    "        outline = outline.replace('Q: Piece 3a Full Title and Opera A:', '</li><li>')\n",
    "        outline = outline.replace('Q: Piece 3b Composer Full Name A:', ' by ')\n",
    "        outlines.append(outline)\n",
    "    return ''.join(outlines)"
   ]
  },
  {
   "cell_type": "code",
   "execution_count": null,
   "metadata": {},
   "outputs": [],
   "source": [
    "for i, row in classdata.iterrows():\n",
    "    fixedProgram = fixProgramValue(row['Program'])\n",
    "    print('{}\\n{}\\n'.format(i, fixedProgram))\n",
    "    classdata.set_value(i, 'Program', fixedProgram)"
   ]
  },
  {
   "cell_type": "code",
   "execution_count": null,
   "metadata": {},
   "outputs": [],
   "source": [
    "classdata.to_csv('ClassRoster-{}.csv'.format(compact_datetime_String()), index = False)"
   ]
  },
  {
   "cell_type": "code",
   "execution_count": null,
   "metadata": {},
   "outputs": [],
   "source": []
  }
 ],
 "metadata": {
  "kernelspec": {
   "display_name": "Python 3",
   "language": "python",
   "name": "python3"
  },
  "language_info": {
   "codemirror_mode": {
    "name": "ipython",
    "version": 3
   },
   "file_extension": ".py",
   "mimetype": "text/x-python",
   "name": "python",
   "nbconvert_exporter": "python",
   "pygments_lexer": "ipython3",
   "version": "3.6.3"
  }
 },
 "nbformat": 4,
 "nbformat_minor": 2
}
