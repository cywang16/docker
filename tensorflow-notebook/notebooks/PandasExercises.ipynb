{
 "cells": [
  {
   "cell_type": "code",
   "execution_count": null,
   "metadata": {},
   "outputs": [],
   "source": [
    "import pandas as pd\n",
    "import numpy as np\n",
    "import matplotlib as mpl\n",
    "import matplotlib.pyplot as plt\n",
    "print('pandas version: {}'.format(pd.__version__))\n",
    "print('numpy version: {}'.format(np.__version__))\n",
    "print('matplotlib version: {}'.format(mpl.__version__))"
   ]
  },
  {
   "cell_type": "markdown",
   "metadata": {},
   "source": [
    "## Pandas Tutorials\n",
    "1. [10 minutes to pandas](https://pandas.pydata.org/pandas-docs/stable/getting_started/10min.html#min)\n",
    "2. [What does axis in pandas mean?](https://stackoverflow.com/questions/22149584/what-does-axis-in-pandas-mean)"
   ]
  },
  {
   "cell_type": "code",
   "execution_count": null,
   "metadata": {},
   "outputs": [],
   "source": [
    "s = pd.Series([1, 3, 5, np.nan, 6, 8])\n",
    "print(s)\n",
    "dates = pd.date_range('20191213', periods = 13)\n",
    "print(dates)\n",
    "df = pd.DataFrame(np.random.randn(13, 4), index = dates, columns=list('ABCD'))\n",
    "print(df)\n",
    "df2 = pd.DataFrame({'A': 1.,\n",
    "                    'B': pd.Timestamp('20191213'),\n",
    "                    'C': pd.Series(1, index = range(4), dtype = 'float32'),\n",
    "                    'D': np.array([5] * 4, dtype = 'int32'),\n",
    "                    'E': pd.Categorical(['app', 'iot', 'connectivity', 'embedded']),\n",
    "                    'F': 'foo'})\n",
    "print(df2)\n",
    "print(df2.dtypes)"
   ]
  },
  {
   "cell_type": "code",
   "execution_count": null,
   "metadata": {},
   "outputs": [],
   "source": [
    "df.head()\n",
    "df.tail(3)\n",
    "# print(df.index)\n",
    "# print(df.columns)\n",
    "df.to_numpy()\n",
    "df2.to_numpy()\n",
    "df.describe()\n",
    "df.T\n",
    "# print(df.sort_index(axis = 0, ascending = False))\n",
    "df.sort_index(axis = 1, ascending = False)\n",
    "df.sort_values(by = 'B')\n",
    "df['C']\n",
    "df[0:3]\n",
    "df['20191214':'20191218']\n",
    "df.loc[dates[0]]\n",
    "df.loc[:, ['A', 'C']]\n",
    "df.loc['20191215':'20191220', ['A', 'B']]\n",
    "df.loc['20191224', 'C']\n",
    "df.iloc[3]\n",
    "df.iloc[4:9, 0:2]\n",
    "df.iloc[[3, 6, 9], [0, 1]]\n",
    "df.iloc[2:4, :]\n",
    "df.iloc[:, 1:2]\n",
    "df.iloc[1, 1]\n",
    "df.iat[1, 1]\n",
    "df[df.A > 0]\n",
    "df[df > 0]\n",
    "df3 = df.iloc[0:6, :].copy()\n",
    "df3['D'] = ['one', 'one', 'two', 'three', 'five', 'right']\n",
    "df3[df3['D'].isin(['two', 'four'])]"
   ]
  },
  {
   "cell_type": "code",
   "execution_count": null,
   "metadata": {},
   "outputs": [],
   "source": [
    "# list data files\n",
    "import os\n",
    "print(os.listdir())\n",
    "print(os.getcwd())\n",
    "# cannot find TZ\n",
    "# print(os.environ['TZ'])"
   ]
  },
  {
   "cell_type": "code",
   "execution_count": null,
   "metadata": {},
   "outputs": [],
   "source": [
    "classdata = pd.read_csv('ClassSummaryMaster-All-010418-4PM.CSV')\n",
    "\n",
    "del classdata['textBox35']\n",
    "del classdata['textBox5']\n",
    "del classdata['textBox37']\n",
    "del classdata['textBox38']\n",
    "\n",
    "classdata"
   ]
  },
  {
   "cell_type": "markdown",
   "metadata": {},
   "source": [
    "## Switch Columns\n",
    "Follow [How to change the order of DataFrame columns?](https://stackoverflow.com/questions/13148429/how-to-change-the-order-of-dataframe-columns) and [Renaming columns in pandas](https://stackoverflow.com/questions/11346283/renaming-columns-in-pandas)\n",
    "\n",
    "Also [Pandas writing dataframe to CSV file](https://stackoverflow.com/questions/16923281/pandas-writing-dataframe-to-csv-file) and [How to avoid Python/Pandas creating an index in a saved csv?](https://stackoverflow.com/questions/20845213/how-to-avoid-python-pandas-creating-an-index-in-a-saved-csv)"
   ]
  },
  {
   "cell_type": "code",
   "execution_count": null,
   "metadata": {},
   "outputs": [],
   "source": [
    "cols = classdata.columns.tolist()\n",
    "print(cols)\n",
    "\n",
    "cols = cols[-3:-2] + cols[:-3] + cols[-2:]\n",
    "cols = cols[0:7] + cols[-2:-1] + cols[7:-2] + cols[-1:]\n",
    "print(cols)"
   ]
  },
  {
   "cell_type": "code",
   "execution_count": null,
   "metadata": {},
   "outputs": [],
   "source": [
    "classdataFixed = classdata[cols]\n",
    "\n",
    "classdataFixed.columns = ['Class Code',\n",
    " 'Room',\n",
    " 'Min',\n",
    " 'Max',\n",
    " 'Pending',\n",
    " 'Enrolled',\n",
    " 'Waitlisted',\n",
    " 'Open',\n",
    " 'Start Date',\n",
    " 'End Date',\n",
    " 'Start Time',\n",
    " 'End Time',\n",
    " 'Days',\n",
    " 'Adjudicator',\n",
    " 'Status']\n",
    "classdataFixed"
   ]
  },
  {
   "cell_type": "code",
   "execution_count": null,
   "metadata": {},
   "outputs": [],
   "source": [
    "classdataFixed.to_csv('ClassSummaryMaster-Piano-12282017-2PM.CSV', index = False)"
   ]
  },
  {
   "cell_type": "code",
   "execution_count": null,
   "metadata": {},
   "outputs": [],
   "source": [
    "dataset = pd.DataFrame(np.random.randint(0,50,size=(125,2)), columns=('DT','val'))    \n",
    "d1 = dataset.reset_index()\n",
    "del d1['index']\n",
    "\n",
    "d = \\\n",
    "    {name: group for name, group in d1.groupby(np.arange(len(d1)) // 25)}\n",
    "for key, value in sorted(d.items()):   \n",
    "    #print(key, value)\n",
    "    s = \\\n",
    "        {name: group for name, group in value.groupby(np.arange(len(value)) % 5)}\n",
    "    for key, value in sorted(s.items()):\n",
    "        print(key, value)\n",
    "        last_var = value['val'].iloc[-1]"
   ]
  },
  {
   "cell_type": "code",
   "execution_count": null,
   "metadata": {},
   "outputs": [],
   "source": [
    "from datetime import *\n",
    "from dateutil.tz import *\n",
    "# datetime.date.today().strftime(\"%B %d, %Y\")\n",
    "# datetime.datetime.now().strftime(\"%I:%M%p on %B %d, %Y\")\n",
    "datetime.now(tzlocal()).strftime(\"%Y%m%d-%H%M-%Z\")"
   ]
  },
  {
   "cell_type": "code",
   "execution_count": null,
   "metadata": {},
   "outputs": [],
   "source": [
    "dfx = pd.read_excel(open('CourseFactorTable.xlsx','rb'), sheetname='Sheet1')\n",
    "dfx"
   ]
  },
  {
   "cell_type": "code",
   "execution_count": null,
   "metadata": {},
   "outputs": [],
   "source": [
    "classdataFixed['Factor'] = 0\n",
    "classdataFixed['Time'] = 0\n",
    "classdataFixed"
   ]
  },
  {
   "cell_type": "code",
   "execution_count": null,
   "metadata": {},
   "outputs": [],
   "source": [
    "r = dfx.loc[(dfx['CourseCode'] == 'Artists01.A') | (dfx['CourseCode'] == 'Artists01')]\n",
    "r"
   ]
  },
  {
   "cell_type": "code",
   "execution_count": null,
   "metadata": {},
   "outputs": [],
   "source": [
    "classdataFixed['Factor'] = dfx.loc[(dfx['CourseCode'] == classdataFixed['Class Code']) |\n",
    "                                   (dfx['CourseCode'] == classdataFixed['Class Code'][:-2])]"
   ]
  },
  {
   "cell_type": "code",
   "execution_count": null,
   "metadata": {},
   "outputs": [],
   "source": [
    "for i, row in classdataFixed.iterrows():\n",
    "    # print(row['Class Code'])\n",
    "    r = dfx[(dfx['CourseCode'] == row['Class Code']) |\n",
    "                            (dfx['CourseCode'] == row['Class Code'][:-2])]\n",
    "    if len(r.index) == 1:\n",
    "        factor = r.iloc[0]['ScheduleFactor']\n",
    "        classdataFixed.set_value(i, 'Factor', factor)\n",
    "        classdataFixed.set_value(i, 'Time', factor * (row['Enrolled'] + row['Pending']))"
   ]
  },
  {
   "cell_type": "code",
   "execution_count": null,
   "metadata": {},
   "outputs": [],
   "source": [
    "classdataFixed"
   ]
  },
  {
   "cell_type": "code",
   "execution_count": null,
   "metadata": {},
   "outputs": [],
   "source": [
    "cols = classdataFixed.columns.tolist()\n",
    "cols = cols[:2] + cols[-2:] + cols[2:-2]\n",
    "classdataFixed = classdataFixed[cols]\n",
    "classdataFixed"
   ]
  },
  {
   "cell_type": "markdown",
   "metadata": {},
   "source": [
    "example from [Sorting list according to other list in python not working when second list contains numpy arrays](https://stackoverflow.com/questions/48156392/sorting-list-according-to-other-list-in-python-not-working-when-second-list-cont)"
   ]
  },
  {
   "cell_type": "code",
   "execution_count": null,
   "metadata": {},
   "outputs": [],
   "source": [
    "a=[np.array([4,5]),np.array([3,4])]\n",
    "b=[1,1]\n",
    "e=zip(b,a)\n",
    "# ValueError: The truth value of an array with more than one element is ambiguous. Use a.any() or a.all()\n",
    "# sorted(e)\n",
    "sorted(e, key=lambda x: x[0])"
   ]
  },
  {
   "cell_type": "code",
   "execution_count": null,
   "metadata": {},
   "outputs": [],
   "source": [
    "dataset = pd.DataFrame(np.random.randint(0,50,size=(125,2)), columns=('DT','val'))    \n",
    "d1 = dataset.reset_index()\n",
    "del d1['index']\n",
    "\n",
    "d = \\\n",
    "    {name: group for name, group in d1.groupby(np.arange(len(d1)) // 25)}\n",
    "for key, value in sorted(d.items()):   \n",
    "    #print(key, value)\n",
    "    s = \\\n",
    "        {name: group for name, group in value.groupby(np.arange(len(value)) % 5)}\n",
    "    for key, value in sorted(s.items()):\n",
    "        print(key, value)\n",
    "        last_var = value['val'].iloc[-1]"
   ]
  }
 ],
 "metadata": {
  "kernelspec": {
   "display_name": "Python 3",
   "language": "python",
   "name": "python3"
  },
  "language_info": {
   "codemirror_mode": {
    "name": "ipython",
    "version": 3
   },
   "file_extension": ".py",
   "mimetype": "text/x-python",
   "name": "python",
   "nbconvert_exporter": "python",
   "pygments_lexer": "ipython3",
   "version": "3.7.3"
  }
 },
 "nbformat": 4,
 "nbformat_minor": 2
}
