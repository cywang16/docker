{
 "cells": [
  {
   "cell_type": "markdown",
   "metadata": {},
   "source": [
    "# BeautifulSoup Scratches\n",
    "[Beautiful Soup Documentation](https://www.crummy.com/software/BeautifulSoup/bs4/doc/)\n",
    "## Quick Start"
   ]
  },
  {
   "cell_type": "code",
   "execution_count": null,
   "metadata": {},
   "outputs": [],
   "source": [
    "html_doc = '''\n",
    "<html><head><title>The Dormouse's story</title></head>\n",
    "<body>\n",
    "<p class=\"title\"><b>The Dormouse's story</b></p>\n",
    "\n",
    "<p class=\"story\">Once upon a time there were three little sisters; and their names were\n",
    "<a href=\"http://example.com/elsie\" class=\"sister\" id=\"link1\">Elsie</a>,\n",
    "<a href=\"http://example.com/lacie\" class=\"sister\" id=\"link2\">Lacie</a> and\n",
    "<a href=\"http://example.com/tillie\" class=\"sister\" id=\"link3\">Tillie</a>;\n",
    "and they lived at the bottom of a well.</p>\n",
    "\n",
    "<p class=\"story\">...</p>\n",
    "'''\n",
    "from bs4 import BeautifulSoup\n",
    "# print(BeautifulSoup.__version__)\n",
    "soup = BeautifulSoup(html_doc, 'html.parser')\n",
    "print(soup.prettify())"
   ]
  },
  {
   "cell_type": "code",
   "execution_count": null,
   "metadata": {},
   "outputs": [],
   "source": [
    "print('soup.title: {}'.format(soup.title))\n",
    "print('soup.title.name: {}'.format(soup.title.name))\n",
    "print('soup.title.string: {}'.format(soup.title.string))\n",
    "print('soup.title.parent.name: {}'.format(soup.title.parent.name))\n",
    "print('soup.p: {}'.format(soup.p))\n",
    "print('soup.p[\\'class\\']: {}'.format(soup.p['class']))\n",
    "print('soup.a: {}'.format(soup.a))\n",
    "print('')\n",
    "print(soup.find_all('a'))\n",
    "# [<a class=\"sister\" href=\"http://example.com/elsie\" id=\"link1\">Elsie</a>,\n",
    "#  <a class=\"sister\" href=\"http://example.com/lacie\" id=\"link2\">Lacie</a>,\n",
    "#  <a class=\"sister\" href=\"http://example.com/tillie\" id=\"link3\">Tillie</a>]\n",
    "print('')\n",
    "print(soup.find(id='link3'))\n",
    "print('')\n",
    "for link in soup.find_all('a'):\n",
    "    print(link.get('href'))\n",
    "print('')\n",
    "print('soup.get_text():\\n{}'.format(soup.get_text()))"
   ]
  },
  {
   "cell_type": "code",
   "execution_count": null,
   "metadata": {},
   "outputs": [],
   "source": [
    "import requests\n",
    "with requests.get('http://udn.com') as udn:\n",
    "    udnsoup = BeautifulSoup(udn.text, 'html.parser')\n",
    "    print(realsoup.prettify())\n",
    "    for href in udnsoup.find_all('a'):\n",
    "        print('[{}]({})'.format(href.text, href.get('href')))"
   ]
  },
  {
   "cell_type": "code",
   "execution_count": null,
   "metadata": {},
   "outputs": [],
   "source": [
    "with requests.get('https://udn.com/news/story/7239/2925679') as article:\n",
    "    articlesoup = BeautifulSoup(article.text, 'html.parser')\n",
    "    # print(articlesoup.prettify())\n",
    "    for para in articlesoup.find_all('p'):\n",
    "        print('paragraph:\\n{}\\n'.format(para.text))"
   ]
  },
  {
   "cell_type": "code",
   "execution_count": null,
   "metadata": {},
   "outputs": [],
   "source": [
    "import urllib\n",
    "sauce = urllib.request.urlopen('http://dncapital.com/dn-capital-raises-new-e200m-fund/').read()\n",
    "soup = bs.BeautifulSoup(sauce,'lxml')\n",
    "source_stopwords=\"\"\n",
    "for paragraph in soup.find_all('p'):\n",
    "    source_stopwords=source_stopwords+paragraph.text\n",
    "\n",
    "print(source_stopwords)"
   ]
  },
  {
   "cell_type": "code",
   "execution_count": null,
   "metadata": {},
   "outputs": [],
   "source": [
    "import bs4 as bs\n",
    "print(bs.__version__)\n",
    "import requests\n",
    "print(requests.__version__)\n",
    "import html5lib\n",
    "print(html5lib.__version__)"
   ]
  },
  {
   "cell_type": "code",
   "execution_count": null,
   "metadata": {},
   "outputs": [],
   "source": []
  }
 ],
 "metadata": {
  "kernelspec": {
   "display_name": "Python 3",
   "language": "python",
   "name": "python3"
  },
  "language_info": {
   "codemirror_mode": {
    "name": "ipython",
    "version": 3
   },
   "file_extension": ".py",
   "mimetype": "text/x-python",
   "name": "python",
   "nbconvert_exporter": "python",
   "pygments_lexer": "ipython3",
   "version": "3.7.3"
  }
 },
 "nbformat": 4,
 "nbformat_minor": 2
}
