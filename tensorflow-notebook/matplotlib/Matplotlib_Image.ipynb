{
 "cells": [
  {
   "cell_type": "markdown",
   "metadata": {},
   "source": [
    "# Image Tutorial Notes\n",
    "\n",
    "## Links\n",
    "\n",
    "- Tutorial pages:\n",
    "  * [Matplotlib image tutorial](https://matplotlib.org/users/image_tutorial.html)\n",
    "  * [Image manipulation and processing using Numpy and Scipy](http://www.scipy-lectures.org/advanced/image_processing/)\n",
    "- Image file formats:\n",
    "  * [PNG (Portable Network Graphics) Wiki](https://en.wikipedia.org/wiki/Portable_Network_Graphics)\n",
    "  * [Comparison of graphics file formats](https://en.wikipedia.org/wiki/Comparison_of_graphics_file_formats)\n",
    "- Stackoverflow:\n",
    "  * [Matplotlib reads jpg into int8 and png into normalized float](https://stackoverflow.com/questions/46013594/matplotlib-reads-jpg-into-int8-and-png-into-normalized-float)\n",
    "- Libraries:\n",
    "  * [matplotlib.image](https://matplotlib.org/2.0.2/api/image_api.html)"
   ]
  },
  {
   "cell_type": "code",
   "execution_count": 1,
   "metadata": {},
   "outputs": [
    {
     "name": "stdout",
     "output_type": "stream",
     "text": [
      "butterfly's shape: (3264, 1836, 3)\n",
      "fox's shape: (768, 1024, 3)\n"
     ]
    },
    {
     "data": {
      "text/plain": [
       "((768, 1024, 3), dtype('uint8'))"
      ]
     },
     "execution_count": 1,
     "metadata": {},
     "output_type": "execute_result"
    }
   ],
   "source": [
    "import matplotlib.pyplot as plt\n",
    "import matplotlib.image as mpimg\n",
    "import numpy as np\n",
    "from scipy import misc\n",
    "\n",
    "butterfly = mpimg.imread('butterfly.jpg')\n",
    "fox = misc.face()\n",
    "print('butterfly\\'s shape: {}'.format(butterfly.shape))\n",
    "print('fox\\'s shape: {}'.format(fox.shape))\n",
    "fox.shape, fox.dtype"
   ]
  },
  {
   "cell_type": "code",
   "execution_count": null,
   "metadata": {},
   "outputs": [],
   "source": [
    "misc.imsave('butterfly.png', butterfly)\n",
    "butterflypng = mpimg.imread('butterfly.png')\n",
    "print(butterflypng.shape)\n",
    "pngbflyplot = plt.imshow(butterflypng)"
   ]
  },
  {
   "cell_type": "markdown",
   "metadata": {},
   "source": [
    "## Plotting numpy arrays as images"
   ]
  },
  {
   "cell_type": "code",
   "execution_count": null,
   "metadata": {},
   "outputs": [],
   "source": [
    "imgplot = plt.imshow(butterfly)"
   ]
  },
  {
   "cell_type": "markdown",
   "metadata": {},
   "source": [
    "### Applying pseudocolor schemes to image plots"
   ]
  },
  {
   "cell_type": "code",
   "execution_count": null,
   "metadata": {},
   "outputs": [],
   "source": [
    "plt.imshow(butterfly[:, :, 0])"
   ]
  },
  {
   "cell_type": "code",
   "execution_count": null,
   "metadata": {},
   "outputs": [],
   "source": [
    "plt.imshow(butterfly[:, :, 0], cmap = 'hot')"
   ]
  },
  {
   "cell_type": "code",
   "execution_count": null,
   "metadata": {},
   "outputs": [],
   "source": [
    "# imgplot = plt.imshow(butterfly[:, :, 0])\n",
    "imgplot = plt.imshow(butterfly)\n",
    "plt.colorbar()"
   ]
  },
  {
   "cell_type": "markdown",
   "metadata": {},
   "source": [
    "### Following not quite working"
   ]
  },
  {
   "cell_type": "code",
   "execution_count": 7,
   "metadata": {},
   "outputs": [],
   "source": [
    "def getjpeghist(jpegfile, histjpeg):\n",
    "    jpegobj = mpimg.imread(jpegfile)\n",
    "    jpegnorm = jpegobj / 256.0\n",
    "    plt.hist(jpegnorm[:, :, 0].ravel(), bins=256)\n",
    "    plt.savefig(histjpeg)"
   ]
  },
  {
   "cell_type": "code",
   "execution_count": 8,
   "metadata": {},
   "outputs": [
    {
     "data": {
      "image/png": "[encoded data removed]",
      "text/plain": [
       "<Figure size 432x288 with 1 Axes>"
      ]
     },
     "metadata": {
      "needs_background": "light"
     },
     "output_type": "display_data"
    }
   ],
   "source": [
    "getjpeghist('../work/IMG_20170725_213918592.jpg', '../work/hist.jpg')"
   ]
  },
  {
   "cell_type": "code",
   "execution_count": 2,
   "metadata": {},
   "outputs": [],
   "source": [
    "# butterflynorm = butterfly / np.linalg.norm(butterfly)\n",
    "butterflynorm = butterfly / 256.0"
   ]
  },
  {
   "cell_type": "code",
   "execution_count": 16,
   "metadata": {},
   "outputs": [
    {
     "data": {
      "text/plain": [
       "0.99609375"
      ]
     },
     "execution_count": 16,
     "metadata": {},
     "output_type": "execute_result"
    },
    {
     "data": {
      "image/png": "[encoded data removed]",
      "text/plain": [
       "<Figure size 432x288 with 1 Axes>"
      ]
     },
     "metadata": {
      "needs_background": "light"
     },
     "output_type": "display_data"
    }
   ],
   "source": [
    "# plt.hist(butterfly[:, :, 0].ravel(), bins=256, range=(0.0, 1.0), fc='k', ec='k')\n",
    "res = plt.hist(butterflynorm[:, :, 0].ravel(), bins=256, fc='k', ec='k')\n",
    "# plt.savefig('hist.jpg')\n",
    "res[1][-1]"
   ]
  },
  {
   "cell_type": "code",
   "execution_count": null,
   "metadata": {},
   "outputs": [],
   "source": [
    "butterfly[:, :, 0].ravel()"
   ]
  },
  {
   "cell_type": "code",
   "execution_count": null,
   "metadata": {},
   "outputs": [],
   "source": [
    "imgplot = plt.imshow(butterfly, clim=(0.0, 0.7))"
   ]
  },
  {
   "cell_type": "code",
   "execution_count": null,
   "metadata": {},
   "outputs": [],
   "source": [
    "butterflypng"
   ]
  },
  {
   "cell_type": "code",
   "execution_count": null,
   "metadata": {},
   "outputs": [],
   "source": [
    "np.all(butterflynorm == butterflypng)"
   ]
  },
  {
   "cell_type": "code",
   "execution_count": null,
   "metadata": {},
   "outputs": [],
   "source": [
    "plt.imshow(butterflynorm)"
   ]
  },
  {
   "cell_type": "markdown",
   "metadata": {},
   "source": [
    "# Note for [Image manipulation and processing using Numpy and Scipy](http://www.scipy-lectures.org/advanced/image_processing/)\n"
   ]
  },
  {
   "cell_type": "code",
   "execution_count": null,
   "metadata": {},
   "outputs": [],
   "source": [
    "from scipy import ndimage\n",
    "\n",
    "el = ndimage.generate_binary_structure(2, 1)\n",
    "print(el)\n",
    "print(el.astype(np.int))"
   ]
  },
  {
   "cell_type": "code",
   "execution_count": null,
   "metadata": {},
   "outputs": [],
   "source": [
    "a = np.zeros((7, 7), dtype = np.int)\n",
    "a[1:6, 2:5] = 1\n",
    "# ndimage.binary_erosion(a).astype(a.dtype)\n",
    "ndimage.binary_erosion(a, structure = np.ones((5, 5))).astype(a.dtype)"
   ]
  },
  {
   "cell_type": "code",
   "execution_count": null,
   "metadata": {},
   "outputs": [],
   "source": [
    "b = np.zeros((5, 5))\n",
    "b[2, 2] = 1\n",
    "ndimage.binary_dilation(b).astype(b.dtype)"
   ]
  },
  {
   "cell_type": "code",
   "execution_count": null,
   "metadata": {},
   "outputs": [],
   "source": [
    "np.random.seed(2)\n",
    "im = np.zeros((64, 64))\n",
    "x, y = (63 * np.random.random((2, 8))).astype(np.int)\n",
    "im[x, y] = np.arange(8)\n",
    "bigger_points = ndimage.grey_dilation(im, size=(5, 5), structure=np.ones((5, 5)))\n",
    "square = np.zeros((16, 16))\n",
    "square[4:-4, 4:-4] = 1\n",
    "dist = ndimage.distance_transform_bf(square)\n",
    "dilate_dist = ndimage.grey_dilation(dist, size=(3, 3), structure=np.ones((3, 3)))\n",
    "\n",
    "\n",
    "plt.figure(figsize=(12.5, 3))\n",
    "plt.subplot(141)\n",
    "plt.imshow(im, interpolation='nearest', cmap=plt.cm.spectral)\n",
    "plt.axis('off')\n",
    "plt.subplot(142)\n",
    "plt.imshow(bigger_points, interpolation='nearest', cmap=plt.cm.spectral)\n",
    "plt.axis('off')\n",
    "plt.subplot(143)\n",
    "plt.imshow(dist, interpolation='nearest', cmap=plt.cm.spectral)\n",
    "plt.axis('off')\n",
    "plt.subplot(144)\n",
    "plt.imshow(dilate_dist, interpolation='nearest', cmap=plt.cm.spectral)\n",
    "plt.axis('off')\n",
    "\n",
    "plt.subplots_adjust(wspace=0, hspace=0.02, top=0.99, bottom=0.01, left=0.01, right=0.99)\n",
    "plt.show()"
   ]
  },
  {
   "cell_type": "code",
   "execution_count": null,
   "metadata": {},
   "outputs": [],
   "source": [
    "import numpy as np\n",
    "from scipy import ndimage\n",
    "import matplotlib.pyplot as plt\n",
    "\n",
    "im = np.zeros((256, 256))\n",
    "im[64:-64, 64:-64] = 1\n",
    "\n",
    "im = ndimage.rotate(im, 15, mode='constant')\n",
    "im = ndimage.gaussian_filter(im, 8)\n",
    "\n",
    "sx = ndimage.sobel(im, axis=0, mode='constant')\n",
    "sy = ndimage.sobel(im, axis=1, mode='constant')\n",
    "sob = np.hypot(sx, sy)\n",
    "\n",
    "plt.figure(figsize=(16, 5))\n",
    "plt.subplot(141)\n",
    "plt.imshow(im, cmap=plt.cm.gray)\n",
    "plt.axis('off')\n",
    "plt.title('square', fontsize=20)\n",
    "plt.subplot(142)\n",
    "plt.imshow(sx)\n",
    "plt.axis('off')\n",
    "plt.title('Sobel (x direction)', fontsize=20)\n",
    "plt.subplot(143)\n",
    "plt.imshow(sob)\n",
    "plt.axis('off')\n",
    "plt.title('Sobel filter', fontsize=20)\n",
    "\n",
    "im += 0.07*np.random.random(im.shape)\n",
    "\n",
    "sx = ndimage.sobel(im, axis=0, mode='constant')\n",
    "sy = ndimage.sobel(im, axis=1, mode='constant')\n",
    "sob = np.hypot(sx, sy)\n",
    "\n",
    "plt.subplot(144)\n",
    "plt.imshow(sob)\n",
    "plt.axis('off')\n",
    "plt.title('Sobel for noisy image', fontsize=20)\n",
    "\n",
    "\n",
    "\n",
    "plt.subplots_adjust(wspace=0.02, hspace=0.02, top=1, bottom=0, left=0, right=0.9)\n",
    "\n",
    "plt.show()"
   ]
  },
  {
   "cell_type": "code",
   "execution_count": null,
   "metadata": {},
   "outputs": [],
   "source": [
    "face = misc.face(gray = True)\n",
    "face[0, 40]"
   ]
  },
  {
   "cell_type": "code",
   "execution_count": null,
   "metadata": {},
   "outputs": [],
   "source": [
    "face.shape, face.dtype\n",
    "lx, ly = face.shape\n",
    "X, Y = np.ogrid[0:lx, 0:ly]"
   ]
  },
  {
   "cell_type": "code",
   "execution_count": null,
   "metadata": {},
   "outputs": [],
   "source": [
    "scikitimg = mpimg.imread('http://scikit-image.org/_static/img/logo.png')"
   ]
  },
  {
   "cell_type": "code",
   "execution_count": null,
   "metadata": {},
   "outputs": [],
   "source": [
    "plt.imshow(scikitimg)"
   ]
  },
  {
   "cell_type": "markdown",
   "metadata": {},
   "source": [
    "## Mathematical morphology\n",
    "[wiki](https://en.wikipedia.org/wiki/Mathematical_morphology)\n"
   ]
  },
  {
   "cell_type": "code",
   "execution_count": null,
   "metadata": {},
   "outputs": [],
   "source": []
  }
 ],
 "metadata": {
  "kernelspec": {
   "display_name": "Python 3",
   "language": "python",
   "name": "python3"
  },
  "language_info": {
   "codemirror_mode": {
    "name": "ipython",
    "version": 3
   },
   "file_extension": ".py",
   "mimetype": "text/x-python",
   "name": "python",
   "nbconvert_exporter": "python",
   "pygments_lexer": "ipython3",
   "version": "3.7.3"
  }
 },
 "nbformat": 4,
 "nbformat_minor": 2
}
