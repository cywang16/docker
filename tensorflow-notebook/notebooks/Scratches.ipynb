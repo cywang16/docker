{
 "cells": [
  {
   "cell_type": "code",
   "execution_count": null,
   "metadata": {},
   "outputs": [],
   "source": [
    "import configparser\n",
    "config = configparser.ConfigParser()\n",
    "config.read('./SampleCfg/IniDemo/odbc.ini')"
   ]
  },
  {
   "cell_type": "code",
   "execution_count": null,
   "metadata": {},
   "outputs": [],
   "source": [
    "config.sections()"
   ]
  },
  {
   "cell_type": "code",
   "execution_count": null,
   "metadata": {},
   "outputs": [],
   "source": [
    "\n",
    "config.read('./SampleCfg/XmlDemo/MsdnXmlExample.xml')"
   ]
  },
  {
   "cell_type": "code",
   "execution_count": null,
   "metadata": {},
   "outputs": [],
   "source": [
    "import numpy as np\n",
    "from scipy import ndimage\n",
    "import matplotlib.pyplot as plt\n",
    "\n",
    "im = np.zeros((256, 256))\n",
    "im[64:-64, 64:-64] = 1\n",
    "\n",
    "im = ndimage.rotate(im, 15, mode='constant')\n",
    "im = ndimage.gaussian_filter(im, 8)\n",
    "\n",
    "sx = ndimage.sobel(im, axis=0, mode='constant')\n",
    "sy = ndimage.sobel(im, axis=1, mode='constant')\n",
    "sob = np.hypot(sx, sy)\n",
    "\n",
    "plt.figure(figsize=(16, 5))\n",
    "plt.subplot(141)\n",
    "plt.imshow(im, cmap=plt.cm.gray)\n",
    "plt.axis('off')\n",
    "plt.title('square', fontsize=20)\n",
    "plt.subplot(142)\n",
    "plt.imshow(sx)\n",
    "plt.axis('off')\n",
    "plt.title('Sobel (x direction)', fontsize=20)\n",
    "plt.subplot(143)\n",
    "plt.imshow(sob)\n",
    "plt.axis('off')\n",
    "plt.title('Sobel filter', fontsize=20)\n",
    "\n",
    "im += 0.07*np.random.random(im.shape)\n",
    "\n",
    "sx = ndimage.sobel(im, axis=0, mode='constant')\n",
    "sy = ndimage.sobel(im, axis=1, mode='constant')\n",
    "sob = np.hypot(sx, sy)\n",
    "\n",
    "plt.subplot(144)\n",
    "plt.imshow(sob)\n",
    "plt.axis('off')\n",
    "plt.title('Sobel for noisy image', fontsize=20)\n",
    "\n",
    "\n",
    "\n",
    "plt.subplots_adjust(wspace=0.02, hspace=0.02, top=1, bottom=0, left=0, right=0.9)\n",
    "\n",
    "plt.show()"
   ]
  },
  {
   "cell_type": "code",
   "execution_count": null,
   "metadata": {},
   "outputs": [],
   "source": [
    "import numpy as np\n",
    "from scipy import ndimage\n",
    "import matplotlib.pyplot as plt\n",
    "\n",
    "'''\n",
    "im = np.zeros((256, 256))\n",
    "im[64:-64, 64:-64] = 1\n",
    "\n",
    "im = ndimage.rotate(im, 15, mode='constant')\n",
    "im = ndimage.gaussian_filter(im, 8)\n",
    "'''\n",
    "im = ndimage.imread('IMG_20171107_103904824.jpg')\n",
    "sx = ndimage.sobel(im, axis=0, mode='constant')\n",
    "sy = ndimage.sobel(im, axis=1, mode='constant')\n",
    "sob = np.hypot(sx, sy)\n",
    "\n",
    "plt.figure(figsize=(16, 5))\n",
    "plt.subplot(141)\n",
    "plt.imshow(im, cmap=plt.cm.gray)\n",
    "plt.axis('off')\n",
    "plt.title('square', fontsize=20)\n",
    "plt.subplot(142)\n",
    "plt.imshow(sx)\n",
    "plt.axis('off')\n",
    "plt.title('Sobel (x direction)', fontsize=20)\n",
    "plt.subplot(143)\n",
    "plt.imshow(sob)\n",
    "plt.axis('off')\n",
    "plt.title('Sobel filter', fontsize=20)\n",
    "\n",
    "im += 0.07*np.random.random(im.shape)\n",
    "\n",
    "sx = ndimage.sobel(im, axis=0, mode='constant')\n",
    "sy = ndimage.sobel(im, axis=1, mode='constant')\n",
    "sob = np.hypot(sx, sy)\n",
    "\n",
    "plt.subplot(144)\n",
    "plt.imshow(sob)\n",
    "plt.axis('off')\n",
    "plt.title('Sobel for noisy image', fontsize=20)\n",
    "\n",
    "\n",
    "\n",
    "plt.subplots_adjust(wspace=0.02, hspace=0.02, top=1, bottom=0, left=0, right=0.9)\n",
    "\n",
    "plt.show()"
   ]
  },
  {
   "cell_type": "code",
   "execution_count": null,
   "metadata": {},
   "outputs": [],
   "source": [
    "im.shape"
   ]
  },
  {
   "cell_type": "code",
   "execution_count": null,
   "metadata": {},
   "outputs": [],
   "source": [
    "import matplotlib.image as mpimg\n",
    "from scipy import misc\n",
    "imgboard = mpimg.imread('IMG_20171107_103904824.jpg')\n",
    "misc.imsave('IMG_20171107_103904824.png', imgboard)\n",
    "imgpng = misc.imread('IMG_20171107_103904824.png')"
   ]
  },
  {
   "cell_type": "code",
   "execution_count": null,
   "metadata": {},
   "outputs": [],
   "source": [
    "imgpng"
   ]
  },
  {
   "cell_type": "markdown",
   "metadata": {},
   "source": [
    "## 20171227\n",
    "[Reason for globals() in Python?](https://stackoverflow.com/questions/12693606/reason-for-globals-in-python)\n",
    "[Iterating through globals() dictionary](https://stackoverflow.com/questions/47996181/iterating-through-globals-dictionary)\n",
    "[Python: Difference between 'global' & globals().update(var)](https://stackoverflow.com/questions/1589968/python-difference-between-global-globals-updatevar)"
   ]
  },
  {
   "cell_type": "code",
   "execution_count": null,
   "metadata": {},
   "outputs": [],
   "source": [
    "import json\n",
    "\n",
    "# TODO: need to find a way to pretty print globals()\n",
    "# the following works, but messy\n",
    "# print(globals())\n",
    "# the following gets TypeError: Object of type 'dict_items' is not JSON serializable \n",
    "# print(json.dumps(globals().items(), indent = 2, skipkeys = True))\n",
    "# the following gets TypeError: Object of type 'module' is not JSON serializable \n",
    "# print(json.dumps(globals(), indent = 2, skipkeys = True))\n",
    "for k, v in list(globals().items()):\n",
    "    print('{}: {}'.format(k, v))"
   ]
  },
  {
   "cell_type": "code",
   "execution_count": null,
   "metadata": {},
   "outputs": [],
   "source": [
    "keys = [\"Name:\", \"Date:\", \"Time:sec:\", \"Room\"]\n",
    "s = \"Name:BobDate:1/3Time:sec:3:00:00RoomA1\"\n",
    "\n",
    "values = []\n",
    "temp = s.split(keys[0])[-1]\n",
    "for key in keys[1:]:\n",
    "    val, temp = temp.split(key)\n",
    "    values.append(val)\n",
    "values.append(temp)\n",
    "\n",
    "dict1 = dict(zip(keys, values))\n",
    "print(dict1)"
   ]
  },
  {
   "cell_type": "code",
   "execution_count": null,
   "metadata": {},
   "outputs": [],
   "source": [
    "s.split(keys[0])[-1]"
   ]
  },
  {
   "cell_type": "code",
   "execution_count": null,
   "metadata": {},
   "outputs": [],
   "source": [
    "import re\n",
    "re.escape('?is-external=true\" title=')"
   ]
  },
  {
   "cell_type": "code",
   "execution_count": null,
   "metadata": {},
   "outputs": [],
   "source": [
    "# re.search('\\?is\\-external\\=true\\\"\\ title\\=', '<li><a href=\"http://d.android.com/reference/java/lang/Object.html?is-external=true\" title=\"class or interface in java.lang\">java.lang.Object</a></li>')\n",
    "re.search('\\\\?is\\\\-external\\\\=true\\\\\"\\\\ title\\\\=', '<li><a href=\"http://d.android.com/reference/java/lang/Object.html?is-external=true\" title=\"class or interface in java.lang\">java.lang.Object</a></li>')"
   ]
  },
  {
   "cell_type": "code",
   "execution_count": null,
   "metadata": {},
   "outputs": [],
   "source": [
    "import pytz\n",
    "from datetime import datetime\n",
    "# pytz.all_timezones\n",
    "tz = pytz.timezone('America/Los_Angeles')\n",
    "northwest_now = datetime.now(tz)\n",
    "northwest_now"
   ]
  },
  {
   "cell_type": "code",
   "execution_count": null,
   "metadata": {},
   "outputs": [],
   "source": [
    "def compact_datetime_String():\n",
    "    return datetime.now(tz).strftime(\"%Y%m%d-%H%M-%Z\")"
   ]
  },
  {
   "cell_type": "code",
   "execution_count": null,
   "metadata": {},
   "outputs": [],
   "source": [
    "compact_datetime_String()"
   ]
  },
  {
   "cell_type": "code",
   "execution_count": null,
   "metadata": {},
   "outputs": [],
   "source": [
    "import imaplib\n",
    "import email\n",
    "import tkinter as tk"
   ]
  },
  {
   "cell_type": "code",
   "execution_count": null,
   "metadata": {},
   "outputs": [],
   "source": [
    "mail=imaplib.IMAP4_SSL('imap.gmail.com', 993)\n",
    "mail.login('superstarn7b@gmail.com','yyyyy')\n",
    "mail.select(\"Inbox\")\n",
    "typ, messageIDs = mail.search(None, \"UNSEEN\")\n",
    "memberships = str(messageIDs[0], encoding='utf8')"
   ]
  },
  {
   "cell_type": "code",
   "execution_count": null,
   "metadata": {},
   "outputs": [],
   "source": [
    "testStr = None\n",
    "# (not testStr) or (not testStr.strip())\n",
    "not (testStr and testStr.strip())"
   ]
  },
  {
   "cell_type": "code",
   "execution_count": null,
   "metadata": {},
   "outputs": [],
   "source": [
    "not None"
   ]
  },
  {
   "cell_type": "code",
   "execution_count": null,
   "metadata": {},
   "outputs": [],
   "source": [
    "import numpy as np\n",
    "from sklearn.preprocessing import normalize\n",
    "\n",
    "x = np.random.rand(1000)*10\n",
    "norm1 = x / np.linalg.norm(x)\n",
    "norm2 = normalize(x[:,np.newaxis], axis=0).ravel()\n",
    "print(np.all(norm1 == norm2))\n",
    "# True"
   ]
  },
  {
   "cell_type": "markdown",
   "metadata": {},
   "source": [
    "[3D scatter_plot across 3D surface_plot](https://stackoverflow.com/questions/48407338/3d-scatter-plot-across-3d-surface-plot)"
   ]
  },
  {
   "cell_type": "code",
   "execution_count": null,
   "metadata": {},
   "outputs": [],
   "source": [
    "import matplotlib.pyplot as plt\n",
    "import pandas as pd\n",
    "import numpy as np\n",
    "from matplotlib import cm\n",
    "from pylab import figure\n",
    "from mpl_toolkits.mplot3d import Axes3D\n",
    "\n",
    "\n",
    "\n",
    "\n",
    "fig = figure(figsize=(30,30))\n",
    "ax = Axes3D(fig)\n",
    "\n",
    "\n",
    "x=160+np.linspace(-100,100,100)\n",
    "y=245+np.linspace(-100,100,100)\n",
    "\n",
    "X,Y=np.meshgrid(x.round(0),y.round(0))\n",
    "\n",
    "\n",
    "\n",
    "\n",
    "# print(threshold1)\n",
    "\n",
    "\n",
    "Z=Y-X\n",
    "\n",
    "ax.plot_surface(X,Y,Z,cmap=cm.coolwarm,linewidth=3)\n",
    "ax.scatter(160,245,85,s=400,c=\"b\")\n",
    "ax.tick_params(labelsize=35,direction='out', length=6, width=2)\n",
    "\n",
    "\n",
    "plt.show()"
   ]
  },
  {
   "cell_type": "code",
   "execution_count": null,
   "metadata": {},
   "outputs": [],
   "source": [
    "import re\n",
    "arabic_letters=re.compile('[^\\u0627]+',flags=re.IGNORECASE|re.UNICODE|re.DOTALL)\n",
    "anotherstr=arabic_letters.sub(' ', '\\u0066 \\u0069 \\u006E \\u0061 \\u006C \\u0627 \\u0627 \\u0627 \\u0627 \\u0627 \\u0627 \\u0627 \\u0627 \\u0627 \\u0627 \\u0627 \\u0627 \\u0627 \\u0627 \\u0627 \\u0627 \\u0627 \\u0627 \\u0627 \\u0627 \\u0627 \\u0627 \\u0627 \\u0627 \\u0627 \\u0627 \\u0627 \\u0627 \\u0627 \\u0627 \\u0627 \\u0627 \\u0627 \\u0627 \\u0648 \\u0646', re.IGNORECASE|re.UNICODE)\n",
    "print(anotherstr)"
   ]
  },
  {
   "cell_type": "code",
   "execution_count": 1,
   "metadata": {},
   "outputs": [
    {
     "name": "stdout",
     "output_type": "stream",
     "text": [
      "total 840\r\n",
      "drwxrwxr-x. 3 jovyan  1000   4096 Apr 17 15:48 .\r\n",
      "drwsrwsr-x. 1 jovyan users    114 May 10 00:30 ..\r\n",
      "-rw-rw-r--. 1 jovyan  1000   5944 Feb 22 16:46 BeautifulSoup.ipynb\r\n",
      "-rw-rw-r--. 1 jovyan  1000 255000 Mar 12 16:11 ClassRoster-20180309-1232-PST.csv\r\n",
      "-rw-rw-r--. 1 jovyan  1000 255012 Mar 12 16:11 ClassRoster-20180311-1416-PDT.csv\r\n",
      "-rw-r--r--. 1 jovyan users 276113 Mar  8 19:10 ClassRoster.csv\r\n",
      "drwxr-xr-x. 2 jovyan users     43 Apr  9 19:39 .ipynb_checkpoints\r\n",
      "-rw-rw-r--. 1 jovyan  1000   9763 Dec 28 16:20 MNIST_exercise.ipynb\r\n",
      "-rw-rw-r--. 1 jovyan  1000   8165 Mar 12 16:11 PAFE2018.ipynb\r\n",
      "-rw-rw-r--. 1 jovyan  1000   7738 Jan 11 17:08 PandasExercises.ipynb\r\n",
      "-rw-rw-r--. 1 jovyan  1000  11267 Jan 24 17:52 Scratches.ipynb\r\n",
      "-rw-rw-r--. 1 jovyan  1000   9181 Apr 17 15:48 TmGetStarted.ipynb\r\n"
     ]
    }
   ],
   "source": [
    "!ls -al"
   ]
  },
  {
   "cell_type": "code",
   "execution_count": null,
   "metadata": {},
   "outputs": [],
   "source": []
  }
 ],
 "metadata": {
  "kernelspec": {
   "display_name": "Python 3",
   "language": "python",
   "name": "python3"
  },
  "language_info": {
   "codemirror_mode": {
    "name": "ipython",
    "version": 3
   },
   "file_extension": ".py",
   "mimetype": "text/x-python",
   "name": "python",
   "nbconvert_exporter": "python",
   "pygments_lexer": "ipython3",
   "version": "3.6.4"
  }
 },
 "nbformat": 4,
 "nbformat_minor": 2
}
