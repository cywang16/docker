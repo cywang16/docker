{
 "cells": [
  {
   "cell_type": "code",
   "execution_count": 16,
   "metadata": {},
   "outputs": [],
   "source": [
    "import base64\n",
    "workencoded = base64.b64encode(open(\"../work/checksmall.png\", \"rb\").read())\n",
    "go2updatesmallencoded = base64.b64encode(open(\"../work/go2updatesmall.png\", \"rb\").read())\n",
    "provisioningencoded = base64.b64encode(open(\"../work/provisioningsmall.png\", \"rb\").read())\n",
    "updatesmallencoded = base64.b64encode(open(\"../work/updatesmall.png\", \"rb\").read())"
   ]
  },
  {
   "cell_type": "code",
   "execution_count": null,
   "metadata": {},
   "outputs": [],
   "source": [
    "updatesmallencodeds"
   ]
  },
  {
   "cell_type": "code",
   "execution_count": null,
   "metadata": {},
   "outputs": [],
   "source": []
  }
 ],
 "metadata": {
  "kernelspec": {
   "display_name": "Python 3",
   "language": "python",
   "name": "python3"
  },
  "language_info": {
   "codemirror_mode": {
    "name": "ipython",
    "version": 3
   },
   "file_extension": ".py",
   "mimetype": "text/x-python",
   "name": "python",
   "nbconvert_exporter": "python",
   "pygments_lexer": "ipython3",
   "version": "3.6.3"
  }
 },
 "nbformat": 4,
 "nbformat_minor": 2
}
