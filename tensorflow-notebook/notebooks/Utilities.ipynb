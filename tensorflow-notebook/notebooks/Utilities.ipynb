{
 "cells": [
  {
   "cell_type": "markdown",
   "metadata": {},
   "source": [
    "# Format JSON\n"
   ]
  },
  {
   "cell_type": "code",
   "execution_count": null,
   "metadata": {},
   "outputs": [],
   "source": [
    "jsonStr = '{\"commands\":[{\"cmdId\":\"6482aec1-2170-b1f2-6cb4-d0cc333243f9\",\"cmd\":\"DeviceFetch\",\"payload\":null},{\"cmdId\":\"e1428476-b6d7-ec36-9627-0f611561ad07\",\"cmd\":\"ForceTeamLogout\",\"payload\":null},{\"cmdId\":\"ca65f53d-a325-7b3f-daf9-c6db2c9c8f9b\",\"cmd\":\"DeviceFactoryReset\",\"payload\":null},{\"cmdId\":\"6b55f9e1-7e48-6887-0aeb-4b2e0fe0c2e8\",\"cmd\":\"DeviceRestart\",\"payload\":null},{\"cmdId\":\"bb126156-c64a-35a5-cd7e-021dfed9b62b\",\"cmd\":\"DeviceFetch\",\"payload\":null},{\"cmdId\":\"0ad401e3-6e57-d14f-ea9e-f3c68560514d\",\"cmd\":\"ForceTeamLogout\",\"payload\":null},{\"cmdId\":\"1a5946d0-fc2e-f53f-ac2a-21f6efa794e4\",\"cmd\":\"DeviceFactoryReset\",\"payload\":null},{\"cmdId\":\"07604119-4bf0-dd3a-0cab-682c66683430\",\"cmd\":\"DeviceRestart\",\"payload\":null},{\"cmdId\":\"1380658c-6afc-bf8c-98ea-d83a24c00c15\",\"cmd\":\"DeviceFetch\",\"payload\":null},{\"cmdId\":\"0bdb0f74-9822-1607-10ad-3f636ef4bced\",\"cmd\":\"ForceTeamLogout\",\"payload\":null},{\"cmdId\":\"744c84f3-4edd-b331-acb5-bbe66b5b2843\",\"cmd\":\"DeviceFactoryReset\",\"payload\":null},{\"cmdId\":\"9aca656a-41d5-b4a9-b947-da76f18ac317\",\"cmd\":\"DeviceRestart\",\"payload\":null}]}'\n",
    "\n",
    "import json\n",
    "parsed = json.loads(jsonStr)\n",
    "print(json.dumps(parsed, indent = 2, sort_keys = True))\n",
    "print(json.dumps(parsed))"
   ]
  },
  {
   "cell_type": "code",
   "execution_count": null,
   "metadata": {},
   "outputs": [],
   "source": [
    "with open('jsonfile.txt', 'r') as handle, open('jsonpretty.json', 'w') as pretty, open('jsononeline.json', 'w') as oneline:\n",
    "    parsed = json.load(handle)\n",
    "    print(json.dumps(parsed, indent = 2, sort_keys = True))\n",
    "    pretty.write(json.dumps(parsed, indent = 2, sort_keys = True))\n",
    "    pretty.close()\n",
    "    print(json.dumps(parsed))\n",
    "    oneline.write(json.dumps(parsed))\n",
    "    oneline.close()"
   ]
  },
  {
   "cell_type": "code",
   "execution_count": null,
   "metadata": {},
   "outputs": [],
   "source": []
  }
 ],
 "metadata": {
  "kernelspec": {
   "display_name": "Python 3",
   "language": "python",
   "name": "python3"
  },
  "language_info": {
   "codemirror_mode": {
    "name": "ipython",
    "version": 3
   },
   "file_extension": ".py",
   "mimetype": "text/x-python",
   "name": "python",
   "nbconvert_exporter": "python",
   "pygments_lexer": "ipython3",
   "version": "3.6.3"
  }
 },
 "nbformat": 4,
 "nbformat_minor": 2
}
